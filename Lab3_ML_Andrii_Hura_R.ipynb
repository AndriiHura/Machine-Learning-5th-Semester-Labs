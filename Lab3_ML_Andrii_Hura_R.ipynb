{
 "cells": [
  {
   "cell_type": "code",
   "execution_count": 10,
   "metadata": {},
   "outputs": [
    {
     "name": "stderr",
     "output_type": "stream",
     "text": [
      "Installing package into 'C:/Users/AndriiHura/Documents/R/win-library/3.6'\n",
      "(as 'lib' is unspecified)\n",
      "Warning message:\n",
      "\"package 'party' is in use and will not be installed\"Installing package into 'C:/Users/AndriiHura/Documents/R/win-library/3.6'\n",
      "(as 'lib' is unspecified)\n"
     ]
    },
    {
     "name": "stdout",
     "output_type": "stream",
     "text": [
      "package 'cluster.datasets' successfully unpacked and MD5 sums checked\n",
      "\n",
      "The downloaded binary packages are in\n",
      "\tC:\\Users\\AndriiHura\\AppData\\Local\\Temp\\RtmpQZA0rK\\downloaded_packages\n"
     ]
    }
   ],
   "source": [
    "install.packages(\"party\")"
   ]
  },
  {
   "cell_type": "code",
   "execution_count": 57,
   "metadata": {},
   "outputs": [
    {
     "name": "stderr",
     "output_type": "stream",
     "text": [
      "Installing package into 'C:/Users/AndriiHura/Documents/R/win-library/3.6'\n",
      "(as 'lib' is unspecified)\n"
     ]
    },
    {
     "name": "stdout",
     "output_type": "stream",
     "text": [
      "package 'rpart.plot' successfully unpacked and MD5 sums checked\n",
      "\n",
      "The downloaded binary packages are in\n",
      "\tC:\\Users\\AndriiHura\\AppData\\Local\\Temp\\RtmpQZA0rK\\downloaded_packages\n"
     ]
    }
   ],
   "source": [
    "install.packages(\"rpart.plot\")"
   ]
  },
  {
   "cell_type": "code",
   "execution_count": 11,
   "metadata": {},
   "outputs": [
    {
     "name": "stderr",
     "output_type": "stream",
     "text": [
      "Installing package into 'C:/Users/AndriiHura/Documents/R/win-library/3.6'\n",
      "(as 'lib' is unspecified)\n"
     ]
    },
    {
     "name": "stdout",
     "output_type": "stream",
     "text": [
      "package 'cluster.datasets' successfully unpacked and MD5 sums checked\n",
      "\n",
      "The downloaded binary packages are in\n",
      "\tC:\\Users\\AndriiHura\\AppData\\Local\\Temp\\RtmpQZA0rK\\downloaded_packages\n"
     ]
    }
   ],
   "source": [
    "install.packages(c(\"cluster.datasets\"), dependencies = TRUE)"
   ]
  },
  {
   "cell_type": "code",
   "execution_count": 13,
   "metadata": {},
   "outputs": [
    {
     "name": "stdout",
     "output_type": "stream",
     "text": [
      "  nativeSpeaker age shoeSize    score\n",
      "1           yes   5 24.83189 32.29385\n",
      "2           yes   6 25.95238 36.63105\n",
      "3            no  11 30.42170 49.60593\n",
      "4           yes   7 28.66450 40.28456\n",
      "5           yes  11 31.88207 55.46085\n",
      "6           yes  10 30.07843 52.83124\n"
     ]
    }
   ],
   "source": [
    "# Load the party package. It will automatically load other\n",
    "# dependent packages.\n",
    "library(party)\n",
    "library(cluster.datasets)\n",
    "\n",
    "\n",
    "# Print some records from data set readingSkills.\n",
    "print(head(readingSkills))"
   ]
  },
  {
   "cell_type": "code",
   "execution_count": 46,
   "metadata": {},
   "outputs": [
    {
     "data": {
      "text/html": [
       "<strong>png:</strong> 2"
      ],
      "text/latex": [
       "\\textbf{png:} 2"
      ],
      "text/markdown": [
       "**png:** 2"
      ],
      "text/plain": [
       "png \n",
       "  2 "
      ]
     },
     "metadata": {},
     "output_type": "display_data"
    }
   ],
   "source": [
    "\n",
    "# Create the input data frame.\n",
    "input.dat <- readingSkills[c(1:105),]\n",
    "\n",
    "# Give the chart file a name.\n",
    "png(file = \"decision_tree.png\")\n",
    "\n",
    "# Create the tree.\n",
    "  output.tree <- ctree(\n",
    "  nativeSpeaker ~ age + shoeSize + score, \n",
    "  data = input.dat)\n",
    "\n",
    "# Plot the tree.\n",
    "plot(output.tree)\n",
    "\n",
    "# Save the file.\n",
    "dev.off()"
   ]
  },
  {
   "cell_type": "code",
   "execution_count": 29,
   "metadata": {},
   "outputs": [],
   "source": [
    "df <- read.csv(\"zoo.csv\")\n"
   ]
  },
  {
   "cell_type": "code",
   "execution_count": 33,
   "metadata": {},
   "outputs": [
    {
     "data": {
      "text/html": [
       "<table>\n",
       "<thead><tr><th scope=col>animal_name</th><th scope=col>hair</th><th scope=col>feathers</th><th scope=col>eggs</th><th scope=col>milk</th><th scope=col>airborne</th><th scope=col>aquatic</th><th scope=col>predator</th><th scope=col>toothed</th><th scope=col>backbone</th><th scope=col>breathes</th><th scope=col>venomous</th><th scope=col>fins</th><th scope=col>legs</th><th scope=col>tail</th><th scope=col>domestic</th><th scope=col>catsize</th><th scope=col>class_type</th></tr></thead>\n",
       "<tbody>\n",
       "\t<tr><td>aardvark</td><td>1       </td><td>0       </td><td>0       </td><td>1       </td><td>0       </td><td>0       </td><td>1       </td><td>1       </td><td>1       </td><td>1       </td><td>0       </td><td>0       </td><td>4       </td><td>0       </td><td>0       </td><td>1       </td><td>1       </td></tr>\n",
       "\t<tr><td>antelope</td><td>1       </td><td>0       </td><td>0       </td><td>1       </td><td>0       </td><td>0       </td><td>0       </td><td>1       </td><td>1       </td><td>1       </td><td>0       </td><td>0       </td><td>4       </td><td>1       </td><td>0       </td><td>1       </td><td>1       </td></tr>\n",
       "\t<tr><td>bass    </td><td>0       </td><td>0       </td><td>1       </td><td>0       </td><td>0       </td><td>1       </td><td>1       </td><td>1       </td><td>1       </td><td>0       </td><td>0       </td><td>1       </td><td>0       </td><td>1       </td><td>0       </td><td>0       </td><td>4       </td></tr>\n",
       "\t<tr><td>bear    </td><td>1       </td><td>0       </td><td>0       </td><td>1       </td><td>0       </td><td>0       </td><td>1       </td><td>1       </td><td>1       </td><td>1       </td><td>0       </td><td>0       </td><td>4       </td><td>0       </td><td>0       </td><td>1       </td><td>1       </td></tr>\n",
       "\t<tr><td>boar    </td><td>1       </td><td>0       </td><td>0       </td><td>1       </td><td>0       </td><td>0       </td><td>1       </td><td>1       </td><td>1       </td><td>1       </td><td>0       </td><td>0       </td><td>4       </td><td>1       </td><td>0       </td><td>1       </td><td>1       </td></tr>\n",
       "\t<tr><td>buffalo </td><td>1       </td><td>0       </td><td>0       </td><td>1       </td><td>0       </td><td>0       </td><td>0       </td><td>1       </td><td>1       </td><td>1       </td><td>0       </td><td>0       </td><td>4       </td><td>1       </td><td>0       </td><td>1       </td><td>1       </td></tr>\n",
       "</tbody>\n",
       "</table>\n"
      ],
      "text/latex": [
       "\\begin{tabular}{r|llllllllllllllllll}\n",
       " animal\\_name & hair & feathers & eggs & milk & airborne & aquatic & predator & toothed & backbone & breathes & venomous & fins & legs & tail & domestic & catsize & class\\_type\\\\\n",
       "\\hline\n",
       "\t aardvark & 1        & 0        & 0        & 1        & 0        & 0        & 1        & 1        & 1        & 1        & 0        & 0        & 4        & 0        & 0        & 1        & 1       \\\\\n",
       "\t antelope & 1        & 0        & 0        & 1        & 0        & 0        & 0        & 1        & 1        & 1        & 0        & 0        & 4        & 1        & 0        & 1        & 1       \\\\\n",
       "\t bass     & 0        & 0        & 1        & 0        & 0        & 1        & 1        & 1        & 1        & 0        & 0        & 1        & 0        & 1        & 0        & 0        & 4       \\\\\n",
       "\t bear     & 1        & 0        & 0        & 1        & 0        & 0        & 1        & 1        & 1        & 1        & 0        & 0        & 4        & 0        & 0        & 1        & 1       \\\\\n",
       "\t boar     & 1        & 0        & 0        & 1        & 0        & 0        & 1        & 1        & 1        & 1        & 0        & 0        & 4        & 1        & 0        & 1        & 1       \\\\\n",
       "\t buffalo  & 1        & 0        & 0        & 1        & 0        & 0        & 0        & 1        & 1        & 1        & 0        & 0        & 4        & 1        & 0        & 1        & 1       \\\\\n",
       "\\end{tabular}\n"
      ],
      "text/markdown": [
       "\n",
       "| animal_name | hair | feathers | eggs | milk | airborne | aquatic | predator | toothed | backbone | breathes | venomous | fins | legs | tail | domestic | catsize | class_type |\n",
       "|---|---|---|---|---|---|---|---|---|---|---|---|---|---|---|---|---|---|\n",
       "| aardvark | 1        | 0        | 0        | 1        | 0        | 0        | 1        | 1        | 1        | 1        | 0        | 0        | 4        | 0        | 0        | 1        | 1        |\n",
       "| antelope | 1        | 0        | 0        | 1        | 0        | 0        | 0        | 1        | 1        | 1        | 0        | 0        | 4        | 1        | 0        | 1        | 1        |\n",
       "| bass     | 0        | 0        | 1        | 0        | 0        | 1        | 1        | 1        | 1        | 0        | 0        | 1        | 0        | 1        | 0        | 0        | 4        |\n",
       "| bear     | 1        | 0        | 0        | 1        | 0        | 0        | 1        | 1        | 1        | 1        | 0        | 0        | 4        | 0        | 0        | 1        | 1        |\n",
       "| boar     | 1        | 0        | 0        | 1        | 0        | 0        | 1        | 1        | 1        | 1        | 0        | 0        | 4        | 1        | 0        | 1        | 1        |\n",
       "| buffalo  | 1        | 0        | 0        | 1        | 0        | 0        | 0        | 1        | 1        | 1        | 0        | 0        | 4        | 1        | 0        | 1        | 1        |\n",
       "\n"
      ],
      "text/plain": [
       "  animal_name hair feathers eggs milk airborne aquatic predator toothed\n",
       "1 aardvark    1    0        0    1    0        0       1        1      \n",
       "2 antelope    1    0        0    1    0        0       0        1      \n",
       "3 bass        0    0        1    0    0        1       1        1      \n",
       "4 bear        1    0        0    1    0        0       1        1      \n",
       "5 boar        1    0        0    1    0        0       1        1      \n",
       "6 buffalo     1    0        0    1    0        0       0        1      \n",
       "  backbone breathes venomous fins legs tail domestic catsize class_type\n",
       "1 1        1        0        0    4    0    0        1       1         \n",
       "2 1        1        0        0    4    1    0        1       1         \n",
       "3 1        0        0        1    0    1    0        0       4         \n",
       "4 1        1        0        0    4    0    0        1       1         \n",
       "5 1        1        0        0    4    1    0        1       1         \n",
       "6 1        1        0        0    4    1    0        1       1         "
      ]
     },
     "metadata": {},
     "output_type": "display_data"
    }
   ],
   "source": [
    "head(df)"
   ]
  },
  {
   "cell_type": "code",
   "execution_count": 35,
   "metadata": {},
   "outputs": [
    {
     "data": {
      "text/html": [
       "<table>\n",
       "<thead><tr><th scope=col>nativeSpeaker</th><th scope=col>age</th><th scope=col>shoeSize</th><th scope=col>score</th></tr></thead>\n",
       "<tbody>\n",
       "\t<tr><td>yes     </td><td> 5      </td><td>24.83189</td><td>32.29385</td></tr>\n",
       "\t<tr><td>yes     </td><td> 6      </td><td>25.95238</td><td>36.63105</td></tr>\n",
       "\t<tr><td>no      </td><td>11      </td><td>30.42170</td><td>49.60593</td></tr>\n",
       "\t<tr><td>yes     </td><td> 7      </td><td>28.66450</td><td>40.28456</td></tr>\n",
       "\t<tr><td>yes     </td><td>11      </td><td>31.88207</td><td>55.46085</td></tr>\n",
       "\t<tr><td>yes     </td><td>10      </td><td>30.07843</td><td>52.83124</td></tr>\n",
       "</tbody>\n",
       "</table>\n"
      ],
      "text/latex": [
       "\\begin{tabular}{r|llll}\n",
       " nativeSpeaker & age & shoeSize & score\\\\\n",
       "\\hline\n",
       "\t yes      &  5       & 24.83189 & 32.29385\\\\\n",
       "\t yes      &  6       & 25.95238 & 36.63105\\\\\n",
       "\t no       & 11       & 30.42170 & 49.60593\\\\\n",
       "\t yes      &  7       & 28.66450 & 40.28456\\\\\n",
       "\t yes      & 11       & 31.88207 & 55.46085\\\\\n",
       "\t yes      & 10       & 30.07843 & 52.83124\\\\\n",
       "\\end{tabular}\n"
      ],
      "text/markdown": [
       "\n",
       "| nativeSpeaker | age | shoeSize | score |\n",
       "|---|---|---|---|\n",
       "| yes      |  5       | 24.83189 | 32.29385 |\n",
       "| yes      |  6       | 25.95238 | 36.63105 |\n",
       "| no       | 11       | 30.42170 | 49.60593 |\n",
       "| yes      |  7       | 28.66450 | 40.28456 |\n",
       "| yes      | 11       | 31.88207 | 55.46085 |\n",
       "| yes      | 10       | 30.07843 | 52.83124 |\n",
       "\n"
      ],
      "text/plain": [
       "  nativeSpeaker age shoeSize score   \n",
       "1 yes            5  24.83189 32.29385\n",
       "2 yes            6  25.95238 36.63105\n",
       "3 no            11  30.42170 49.60593\n",
       "4 yes            7  28.66450 40.28456\n",
       "5 yes           11  31.88207 55.46085\n",
       "6 yes           10  30.07843 52.83124"
      ]
     },
     "metadata": {},
     "output_type": "display_data"
    }
   ],
   "source": [
    "head(readingSkills)"
   ]
  },
  {
   "cell_type": "code",
   "execution_count": 44,
   "metadata": {},
   "outputs": [
    {
     "data": {
      "text/html": [
       "<strong>png:</strong> 2"
      ],
      "text/latex": [
       "\\textbf{png:} 2"
      ],
      "text/markdown": [
       "**png:** 2"
      ],
      "text/plain": [
       "png \n",
       "  2 "
      ]
     },
     "metadata": {},
     "output_type": "display_data"
    }
   ],
   "source": [
    "\n",
    "# Create the input data frame.\n",
    "input.dat <- df[c(1:70),]\n",
    "\n",
    "# Give the chart file a name.\n",
    "png(file = \"decision_tree.png\")\n",
    "\n",
    "# Create the tree.\n",
    "  output.tree <- ctree(\n",
    "  class_type ~ hair + feathers + eggs + milk + airborne + aquatic+ \n",
    "      predator +toothed+ backbone + breathes + venomous+fins+\n",
    "      legs +domestic+catsize , \n",
    "  data = input.dat)\n",
    "\n",
    "# Plot the tree.\n",
    "plot(output.tree)\n",
    "\n",
    "# Save the file.\n",
    "dev.off()"
   ]
  },
  {
   "cell_type": "code",
   "execution_count": 45,
   "metadata": {},
   "outputs": [
    {
     "data": {
      "image/png": "[encoded data removed]",
      "text/plain": [
       "plot without title"
      ]
     },
     "metadata": {},
     "output_type": "display_data"
    }
   ],
   "source": [
    "plot(output.tree)\n"
   ]
  },
  {
   "cell_type": "markdown",
   "metadata": {},
   "source": [
    "# Iris dataset"
   ]
  },
  {
   "cell_type": "code",
   "execution_count": 48,
   "metadata": {},
   "outputs": [
    {
     "name": "stdout",
     "output_type": "stream",
     "text": [
      "\n",
      "\t Conditional inference tree with 4 terminal nodes\n",
      "\n",
      "Response:  Species \n",
      "Inputs:  Sepal.Length, Sepal.Width, Petal.Length, Petal.Width \n",
      "Number of observations:  150 \n",
      "\n",
      "1) Petal.Length <= 1.9; criterion = 1, statistic = 140.264\n",
      "  2)*  weights = 50 \n",
      "1) Petal.Length > 1.9\n",
      "  3) Petal.Width <= 1.7; criterion = 1, statistic = 67.894\n",
      "    4) Petal.Length <= 4.8; criterion = 0.999, statistic = 13.865\n",
      "      5)*  weights = 46 \n",
      "    4) Petal.Length > 4.8\n",
      "      6)*  weights = 8 \n",
      "  3) Petal.Width > 1.7\n",
      "    7)*  weights = 46 \n"
     ]
    }
   ],
   "source": [
    "iris_ctree<-ctree(Species ~ Sepal.Length + Sepal.Width + Petal.Length + Petal.Width,\n",
    "                  data = iris)\n",
    "\n",
    "print(iris_ctree)"
   ]
  },
  {
   "cell_type": "code",
   "execution_count": 49,
   "metadata": {},
   "outputs": [
    {
     "data": {
      "image/png": "[encoded data removed]",
      "text/plain": [
       "plot without title"
      ]
     },
     "metadata": {},
     "output_type": "display_data"
    }
   ],
   "source": [
    "plot(iris_ctree)\n"
   ]
  },
  {
   "cell_type": "code",
   "execution_count": 50,
   "metadata": {},
   "outputs": [
    {
     "data": {
      "image/png": "[encoded data removed]",
      "text/plain": [
       "plot without title"
      ]
     },
     "metadata": {},
     "output_type": "display_data"
    }
   ],
   "source": [
    "plot(iris_ctree,type = \"simple\")\n"
   ]
  },
  {
   "cell_type": "code",
   "execution_count": 58,
   "metadata": {},
   "outputs": [],
   "source": [
    "library(rpart)\n",
    "library(rpart.plot)"
   ]
  },
  {
   "cell_type": "code",
   "execution_count": 55,
   "metadata": {},
   "outputs": [],
   "source": [
    "# fit<-rpart(iris ~  Sepal.Length + Sepal.Width + Petal.Length + Petal.Width,\n",
    "#            method = \"class\",\n",
    "#            data = iris,\n",
    "#            control = rpart.control(cp=0.005, minsplit = 2),\n",
    "#            parms = list(split=\"gini\"))\n",
    "# printcp(fit)"
   ]
  },
  {
   "cell_type": "code",
   "execution_count": 59,
   "metadata": {},
   "outputs": [
    {
     "data": {
      "text/html": [
       "0.933333333333333"
      ],
      "text/latex": [
       "0.933333333333333"
      ],
      "text/markdown": [
       "0.933333333333333"
      ],
      "text/plain": [
       "[1] 0.9333333"
      ]
     },
     "metadata": {},
     "output_type": "display_data"
    },
    {
     "data": {
      "image/png": "[encoded data removed]",
      "text/plain": [
       "Plot with title \"Decision Tree\""
      ]
     },
     "metadata": {},
     "output_type": "display_data"
    }
   ],
   "source": [
    "\n",
    "s<-sample(nrow(iris))\n",
    "iris<-iris[s,]\n",
    "train<-iris[1:(nrow(iris)*0.7),]\n",
    "test<-iris[-1:(-nrow(iris)*0.7),]\n",
    "tree<-rpart(Species~.,data=train,method='class',\n",
    "            parms=list(split=\"information\"))\n",
    "rpart.plot(tree,box.palette = \"RdBu\",shadow.col = \"gray\",type=4,extra=101\n",
    "           ,fallen.leaves = FALSE,main=\"Decision Tree\")\n",
    "pred<-predict(tree,test,type=\"class\")\n",
    "t<-table(test[,5],pred)\n",
    "acc<-sum(diag(t))/sum(t)\n",
    "acc"
   ]
  },
  {
   "cell_type": "code",
   "execution_count": 65,
   "metadata": {},
   "outputs": [
    {
     "ename": "ERROR",
     "evalue": "Error in `[.data.frame`(testZoo, , 17): undefined columns selected\n",
     "output_type": "error",
     "traceback": [
      "Error in `[.data.frame`(testZoo, , 17): undefined columns selected\nTraceback:\n",
      "1. table(testZoo[, 17], predZoo)",
      "2. testZoo[, 17]",
      "3. `[.data.frame`(testZoo, , 17)",
      "4. stop(\"undefined columns selected\")"
     ]
    },
    {
     "data": {
      "image/png": "[encoded data removed]",
      "text/plain": [
       "Plot with title \"Decision Tree\""
      ]
     },
     "metadata": {},
     "output_type": "display_data"
    }
   ],
   "source": [
    "sZoo<-sample(nrow(df))\n",
    "df<-df[sZoo,2:ncol(df)]\n",
    "# df\n",
    "trainZoo<-df[1:(nrow(df)*0.9),]\n",
    "testZoo<-df[-1:(-nrow(df)*0.9),]\n",
    "# trainZoo\n",
    "treeZoo<-rpart(class_type~.,data=trainZoo,method='class',parms=list(split=\"information\"))\n",
    "rpart.plot(treeZoo,box.palette = \"RdBu\",shadow.col = \"gray\",type=4,extra=101\n",
    "           ,fallen.leaves = FALSE,main=\"Decision Tree\")\n",
    "predZoo<-predict(treeZoo,testZoo,type=\"class\")\n",
    "tZoo<-table(testZoo[,17],predZoo)\n",
    "accZoo<-sum(diag(tZoo))/sum(tZoo)\n",
    "# accZoo"
   ]
  },
  {
   "cell_type": "code",
   "execution_count": null,
   "metadata": {},
   "outputs": [],
   "source": []
  }
 ],
 "metadata": {
  "kernelspec": {
   "display_name": "R",
   "language": "R",
   "name": "ir"
  },
  "language_info": {
   "codemirror_mode": "r",
   "file_extension": ".r",
   "mimetype": "text/x-r-source",
   "name": "R",
   "pygments_lexer": "r",
   "version": "3.6.1"
  }
 },
 "nbformat": 4,
 "nbformat_minor": 2
}
