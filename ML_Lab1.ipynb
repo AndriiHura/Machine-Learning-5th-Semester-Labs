{
 "cells": [
  {
   "cell_type": "code",
   "execution_count": 384,
   "metadata": {},
   "outputs": [],
   "source": [
    "set.seed(228)\n",
    "iris<-read.csv(url(\"https://archive.ics.uci.edu/ml/machine-learning-databases/iris/iris.data\"), header=FALSE)\n",
    "irisEtalon<-read.csv(url(\"https://archive.ics.uci.edu/ml/machine-learning-databases/iris/iris.data\"), header=FALSE)\n",
    "zoo<-read.csv(url(\"https://archive.ics.uci.edu/ml/machine-learning-databases/zoo/zoo.data\"), header=TRUE)\n",
    "wine<-read.csv(url(\"https://archive.ics.uci.edu/ml/machine-learning-databases/wine/wine.data\"), header=TRUE)\n",
    "ac <- airquality\n",
    "heart <- read.csv(\"heart.csv\")"
   ]
  },
  {
   "cell_type": "code",
   "execution_count": 385,
   "metadata": {},
   "outputs": [],
   "source": [
    "names(iris)<-c(\"Sepal.Length\", \"Sepal.Width\", \"Petal.Length\", \"Petal.Width\", \"Species\")\n",
    "names(zoo)<-c('Name','Hair','Geathers','Eggs','Milk','Airborne','Aquatic',\n",
    "                   'Predator','Toothed','Backbone','Breathes','Venomous','Fins','Legs','Tail','Domestic','Catsize','Type')\n",
    "names(wine)<-c('Classes','Alcohol','Malic.Acid','Ash','Alcalinity.Of.Ash',\n",
    "                    'Magnesium','Total.Phenols','Flavanoids','Nonflavanoid.Phenols','Proanthocyanics',\n",
    "                    'Color.Intensity','Hue','0D280/0D315','Proline')\n",
    "names(heart)[1] <- \"age\""
   ]
  },
  {
   "cell_type": "code",
   "execution_count": 391,
   "metadata": {},
   "outputs": [],
   "source": [
    "change_col_names <- function(dataSet, colNames){\n",
    "    #This function \n",
    "    names(dataSet) <-colNames\n",
    "    return(dataSet)\n",
    "}\n",
    "\n",
    "shuffle <- function(dataSet){\n",
    "    #This function randomly shuffles input dataset\n",
    "    shuffledDS <-dataSet[sample(nrow(dataSet)),]\n",
    "    return(shuffledDS)\n",
    "}\n",
    "\n",
    "replace_helper <- function(col){\n",
    "    col[is.na(col)] <- median(col, TRUE)\n",
    "    return(col)\n",
    "}\n",
    "\n",
    "replace_na <- function(dataSet, targetAttr){\n",
    "    #This function gets dataset, and the name of target att., and replaces all na's with median \n",
    "    for (class in 1:length(unique(dataSet[targetAttr][[1]])))\n",
    "    {\n",
    "        for(num in 1:(length(dataSet)-1)){\n",
    "           \n",
    "           dataSet[which(dataSet[targetAttr]==class),][[num]] <-\n",
    "            replace_helper(dataSet [which(dataSet[targetAttr]==class),][[num]])\n",
    "        }\n",
    "    }\n",
    "   return(dataSet)\n",
    "}\n",
    "replace_class <- function(classCol){\n",
    "    if(is.null(levels(classCol)))\n",
    "    {\n",
    "            i=1\n",
    "        for(num in unique(classCol)){\n",
    "            classCol[classCol==num]<-i\n",
    "            i=i+ 1\n",
    "        }\n",
    "        return(classCol)\n",
    "    }\n",
    "    else{\n",
    "        levels(classCol) <- seq(length(levels(classCol)))\n",
    "        return(classCol)\n",
    "    }\n",
    "}\n",
    "train_test_sep <- function(df){\n",
    "    #Function sepparates dataframe into test and train sets\n",
    "    #Returns list where 1st is train set, 2nd is test set\n",
    "    set.seed(111)\n",
    "    sample_size <- floor(0.7 * nrow(df))\n",
    "    train_ind <- sample(seq_len(nrow(df)), size = sample_size)\n",
    "    train_set <- df[train_ind,]\n",
    "    test_set <-df[-train_ind,]\n",
    "    head(test_set)\n",
    "    head(train_set)\n",
    "    ls<-list(train_set, test_set)\n",
    "    return(ls)\n",
    "}\n",
    "makeplot<-function(){\n",
    "#     plot(iris$Sepal.Length, iris$Sepal.Width, main=\"Sepal\", pch=21,bg=c('red','green','blue')[unclass(iris$Species)], \n",
    "#          xlab='Width',ylab='Length')\n",
    "#      legend(2,7.9,legend=c('setoza','versicolor','virginica'),col=c('red','green','blue'),\n",
    "#            lty=1,cex=0.6,title='Species',text.font=6)\n",
    "#    options(repr.plot.width=5, repr.plot.height=5)\n",
    "    \n",
    "   with(iris,plot(Sepal.Length, Sepal.Width, main=\"Sepal\", pch=21,bg=c('red','green','blue')[unclass(Species)],\n",
    "                  col = Species,xlab='Width',ylab='Length'))\n",
    "legend(\"topright\",c('setoza','versicolor','virginica'),col=c('red','green','blue'), \n",
    "       lty=1,cex=0.6,title='Species',text.font=6)\n",
    "}\n",
    "\n",
    "\n"
   ]
  },
  {
   "cell_type": "code",
   "execution_count": 83,
   "metadata": {},
   "outputs": [
    {
     "name": "stdout",
     "output_type": "stream",
     "text": [
      "[1] 1\n",
      "[1] 3\n"
     ]
    }
   ],
   "source": [
    "###Why the hell is it happening?????\n",
    "print(length(unique(iris[\"Species\"])))\n",
    "print(length(unique(iris$Species)))"
   ]
  },
  {
   "cell_type": "markdown",
   "metadata": {},
   "source": [
    "# Iris"
   ]
  },
  {
   "cell_type": "code",
   "execution_count": 276,
   "metadata": {},
   "outputs": [
    {
     "data": {
      "text/html": [
       "<table>\n",
       "<thead><tr><th scope=col>Sepal.Length</th><th scope=col>Sepal.Width</th><th scope=col>Petal.Length</th><th scope=col>Petal.Width</th><th scope=col>Species</th></tr></thead>\n",
       "<tbody>\n",
       "\t<tr><td>5.1        </td><td>3.5        </td><td>1.4        </td><td>0.2        </td><td>Iris-setosa</td></tr>\n",
       "\t<tr><td>4.9        </td><td>3.0        </td><td>1.4        </td><td>0.2        </td><td>Iris-setosa</td></tr>\n",
       "\t<tr><td>4.7        </td><td>3.2        </td><td>1.3        </td><td>0.2        </td><td>Iris-setosa</td></tr>\n",
       "\t<tr><td>4.6        </td><td>3.1        </td><td>1.5        </td><td>0.2        </td><td>Iris-setosa</td></tr>\n",
       "\t<tr><td>5.0        </td><td>3.6        </td><td>1.4        </td><td>0.2        </td><td>Iris-setosa</td></tr>\n",
       "\t<tr><td>5.4        </td><td>3.9        </td><td>1.7        </td><td>0.4        </td><td>Iris-setosa</td></tr>\n",
       "</tbody>\n",
       "</table>\n"
      ],
      "text/latex": [
       "\\begin{tabular}{r|lllll}\n",
       " Sepal.Length & Sepal.Width & Petal.Length & Petal.Width & Species\\\\\n",
       "\\hline\n",
       "\t 5.1         & 3.5         & 1.4         & 0.2         & Iris-setosa\\\\\n",
       "\t 4.9         & 3.0         & 1.4         & 0.2         & Iris-setosa\\\\\n",
       "\t 4.7         & 3.2         & 1.3         & 0.2         & Iris-setosa\\\\\n",
       "\t 4.6         & 3.1         & 1.5         & 0.2         & Iris-setosa\\\\\n",
       "\t 5.0         & 3.6         & 1.4         & 0.2         & Iris-setosa\\\\\n",
       "\t 5.4         & 3.9         & 1.7         & 0.4         & Iris-setosa\\\\\n",
       "\\end{tabular}\n"
      ],
      "text/markdown": [
       "\n",
       "| Sepal.Length | Sepal.Width | Petal.Length | Petal.Width | Species |\n",
       "|---|---|---|---|---|\n",
       "| 5.1         | 3.5         | 1.4         | 0.2         | Iris-setosa |\n",
       "| 4.9         | 3.0         | 1.4         | 0.2         | Iris-setosa |\n",
       "| 4.7         | 3.2         | 1.3         | 0.2         | Iris-setosa |\n",
       "| 4.6         | 3.1         | 1.5         | 0.2         | Iris-setosa |\n",
       "| 5.0         | 3.6         | 1.4         | 0.2         | Iris-setosa |\n",
       "| 5.4         | 3.9         | 1.7         | 0.4         | Iris-setosa |\n",
       "\n"
      ],
      "text/plain": [
       "  Sepal.Length Sepal.Width Petal.Length Petal.Width Species    \n",
       "1 5.1          3.5         1.4          0.2         Iris-setosa\n",
       "2 4.9          3.0         1.4          0.2         Iris-setosa\n",
       "3 4.7          3.2         1.3          0.2         Iris-setosa\n",
       "4 4.6          3.1         1.5          0.2         Iris-setosa\n",
       "5 5.0          3.6         1.4          0.2         Iris-setosa\n",
       "6 5.4          3.9         1.7          0.4         Iris-setosa"
      ]
     },
     "metadata": {},
     "output_type": "display_data"
    }
   ],
   "source": [
    "head(iris)"
   ]
  },
  {
   "cell_type": "markdown",
   "metadata": {},
   "source": [
    "## Change class names"
   ]
  },
  {
   "cell_type": "code",
   "execution_count": 277,
   "metadata": {},
   "outputs": [
    {
     "data": {
      "text/html": [
       "<table>\n",
       "<thead><tr><th scope=col>Sepal.Length</th><th scope=col>Sepal.Width</th><th scope=col>Petal.Length</th><th scope=col>Petal.Width</th><th scope=col>Species</th></tr></thead>\n",
       "<tbody>\n",
       "\t<tr><td>5.1</td><td>3.5</td><td>1.4</td><td>0.2</td><td>1  </td></tr>\n",
       "\t<tr><td>4.9</td><td>3.0</td><td>1.4</td><td>0.2</td><td>1  </td></tr>\n",
       "\t<tr><td>4.7</td><td>3.2</td><td>1.3</td><td>0.2</td><td>1  </td></tr>\n",
       "\t<tr><td>4.6</td><td>3.1</td><td>1.5</td><td>0.2</td><td>1  </td></tr>\n",
       "\t<tr><td>5.0</td><td>3.6</td><td>1.4</td><td>0.2</td><td>1  </td></tr>\n",
       "\t<tr><td>5.4</td><td>3.9</td><td>1.7</td><td>0.4</td><td>1  </td></tr>\n",
       "</tbody>\n",
       "</table>\n"
      ],
      "text/latex": [
       "\\begin{tabular}{r|lllll}\n",
       " Sepal.Length & Sepal.Width & Petal.Length & Petal.Width & Species\\\\\n",
       "\\hline\n",
       "\t 5.1 & 3.5 & 1.4 & 0.2 & 1  \\\\\n",
       "\t 4.9 & 3.0 & 1.4 & 0.2 & 1  \\\\\n",
       "\t 4.7 & 3.2 & 1.3 & 0.2 & 1  \\\\\n",
       "\t 4.6 & 3.1 & 1.5 & 0.2 & 1  \\\\\n",
       "\t 5.0 & 3.6 & 1.4 & 0.2 & 1  \\\\\n",
       "\t 5.4 & 3.9 & 1.7 & 0.4 & 1  \\\\\n",
       "\\end{tabular}\n"
      ],
      "text/markdown": [
       "\n",
       "| Sepal.Length | Sepal.Width | Petal.Length | Petal.Width | Species |\n",
       "|---|---|---|---|---|\n",
       "| 5.1 | 3.5 | 1.4 | 0.2 | 1   |\n",
       "| 4.9 | 3.0 | 1.4 | 0.2 | 1   |\n",
       "| 4.7 | 3.2 | 1.3 | 0.2 | 1   |\n",
       "| 4.6 | 3.1 | 1.5 | 0.2 | 1   |\n",
       "| 5.0 | 3.6 | 1.4 | 0.2 | 1   |\n",
       "| 5.4 | 3.9 | 1.7 | 0.4 | 1   |\n",
       "\n"
      ],
      "text/plain": [
       "  Sepal.Length Sepal.Width Petal.Length Petal.Width Species\n",
       "1 5.1          3.5         1.4          0.2         1      \n",
       "2 4.9          3.0         1.4          0.2         1      \n",
       "3 4.7          3.2         1.3          0.2         1      \n",
       "4 4.6          3.1         1.5          0.2         1      \n",
       "5 5.0          3.6         1.4          0.2         1      \n",
       "6 5.4          3.9         1.7          0.4         1      "
      ]
     },
     "metadata": {},
     "output_type": "display_data"
    }
   ],
   "source": [
    "iris$Species<-replace_class(iris$Species)\n",
    "head(iris)"
   ]
  },
  {
   "cell_type": "markdown",
   "metadata": {},
   "source": [
    "## Shuffle df and separate to test and train sets"
   ]
  },
  {
   "cell_type": "code",
   "execution_count": 278,
   "metadata": {},
   "outputs": [
    {
     "data": {
      "text/html": [
       "<table>\n",
       "<thead><tr><th></th><th scope=col>Sepal.Length</th><th scope=col>Sepal.Width</th><th scope=col>Petal.Length</th><th scope=col>Petal.Width</th><th scope=col>Species</th></tr></thead>\n",
       "<tbody>\n",
       "\t<tr><th scope=row>61</th><td>5.0</td><td>2.0</td><td>3.5</td><td>1.0</td><td>2  </td></tr>\n",
       "\t<tr><th scope=row>102</th><td>5.8</td><td>2.7</td><td>5.1</td><td>1.9</td><td>3  </td></tr>\n",
       "\t<tr><th scope=row>40</th><td>5.1</td><td>3.4</td><td>1.5</td><td>0.2</td><td>1  </td></tr>\n",
       "\t<tr><th scope=row>62</th><td>5.9</td><td>3.0</td><td>4.2</td><td>1.5</td><td>2  </td></tr>\n",
       "\t<tr><th scope=row>49</th><td>5.3</td><td>3.7</td><td>1.5</td><td>0.2</td><td>1  </td></tr>\n",
       "\t<tr><th scope=row>65</th><td>5.6</td><td>2.9</td><td>3.6</td><td>1.3</td><td>2  </td></tr>\n",
       "</tbody>\n",
       "</table>\n"
      ],
      "text/latex": [
       "\\begin{tabular}{r|lllll}\n",
       "  & Sepal.Length & Sepal.Width & Petal.Length & Petal.Width & Species\\\\\n",
       "\\hline\n",
       "\t61 & 5.0 & 2.0 & 3.5 & 1.0 & 2  \\\\\n",
       "\t102 & 5.8 & 2.7 & 5.1 & 1.9 & 3  \\\\\n",
       "\t40 & 5.1 & 3.4 & 1.5 & 0.2 & 1  \\\\\n",
       "\t62 & 5.9 & 3.0 & 4.2 & 1.5 & 2  \\\\\n",
       "\t49 & 5.3 & 3.7 & 1.5 & 0.2 & 1  \\\\\n",
       "\t65 & 5.6 & 2.9 & 3.6 & 1.3 & 2  \\\\\n",
       "\\end{tabular}\n"
      ],
      "text/markdown": [
       "\n",
       "| <!--/--> | Sepal.Length | Sepal.Width | Petal.Length | Petal.Width | Species |\n",
       "|---|---|---|---|---|---|\n",
       "| 61 | 5.0 | 2.0 | 3.5 | 1.0 | 2   |\n",
       "| 102 | 5.8 | 2.7 | 5.1 | 1.9 | 3   |\n",
       "| 40 | 5.1 | 3.4 | 1.5 | 0.2 | 1   |\n",
       "| 62 | 5.9 | 3.0 | 4.2 | 1.5 | 2   |\n",
       "| 49 | 5.3 | 3.7 | 1.5 | 0.2 | 1   |\n",
       "| 65 | 5.6 | 2.9 | 3.6 | 1.3 | 2   |\n",
       "\n"
      ],
      "text/plain": [
       "    Sepal.Length Sepal.Width Petal.Length Petal.Width Species\n",
       "61  5.0          2.0         3.5          1.0         2      \n",
       "102 5.8          2.7         5.1          1.9         3      \n",
       "40  5.1          3.4         1.5          0.2         1      \n",
       "62  5.9          3.0         4.2          1.5         2      \n",
       "49  5.3          3.7         1.5          0.2         1      \n",
       "65  5.6          2.9         3.6          1.3         2      "
      ]
     },
     "metadata": {},
     "output_type": "display_data"
    }
   ],
   "source": [
    "iris<-shuffle(iris)\n",
    "head(iris)"
   ]
  },
  {
   "cell_type": "code",
   "execution_count": 279,
   "metadata": {},
   "outputs": [
    {
     "data": {
      "text/html": [
       "105"
      ],
      "text/latex": [
       "105"
      ],
      "text/markdown": [
       "105"
      ],
      "text/plain": [
       "[1] 105"
      ]
     },
     "metadata": {},
     "output_type": "display_data"
    },
    {
     "data": {
      "text/html": [
       "45"
      ],
      "text/latex": [
       "45"
      ],
      "text/markdown": [
       "45"
      ],
      "text/plain": [
       "[1] 45"
      ]
     },
     "metadata": {},
     "output_type": "display_data"
    }
   ],
   "source": [
    "iris_train<-train_test_sep(iris)[[1]]\n",
    "iris_test<-train_test_sep(iris)[[2]]\n",
    "nrow(iris_train)\n",
    "nrow(iris_test)"
   ]
  },
  {
   "cell_type": "markdown",
   "metadata": {},
   "source": [
    "## Draw scatter plot and histogram"
   ]
  },
  {
   "cell_type": "code",
   "execution_count": 392,
   "metadata": {},
   "outputs": [
    {
     "data": {
      "image/png": "[encoded data removed]",
      "text/plain": [
       "Plot with title \"Sepal\""
      ]
     },
     "metadata": {},
     "output_type": "display_data"
    }
   ],
   "source": [
    "makeplot()"
   ]
  },
  {
   "cell_type": "code",
   "execution_count": 322,
   "metadata": {},
   "outputs": [
    {
     "data": {
      "image/png": "[encoded data removed]",
      "text/plain": [
       "Plot with title \"Petal Length\""
      ]
     },
     "metadata": {},
     "output_type": "display_data"
    }
   ],
   "source": [
    "hist(iris$Petal.Length, xlab='Length', col='blue',main='Petal Length')"
   ]
  },
  {
   "cell_type": "markdown",
   "metadata": {},
   "source": [
    "\n",
    "# Wine"
   ]
  },
  {
   "cell_type": "code",
   "execution_count": 282,
   "metadata": {},
   "outputs": [
    {
     "data": {
      "text/html": [
       "<table>\n",
       "<thead><tr><th scope=col>Classes</th><th scope=col>Alcohol</th><th scope=col>Malic.Acid</th><th scope=col>Ash</th><th scope=col>Alcalinity.Of.Ash</th><th scope=col>Magnesium</th><th scope=col>Total.Phenols</th><th scope=col>Flavanoids</th><th scope=col>Nonflavanoid.Phenols</th><th scope=col>Proanthocyanics</th><th scope=col>Color.Intensity</th><th scope=col>Hue</th><th scope=col>0D280/0D315</th><th scope=col>Proline</th></tr></thead>\n",
       "<tbody>\n",
       "\t<tr><td>1    </td><td>13.20</td><td>1.78 </td><td>2.14 </td><td>11.2 </td><td>100  </td><td>2.65 </td><td>2.76 </td><td>0.26 </td><td>1.28 </td><td>4.38 </td><td>1.05 </td><td>3.40 </td><td>1050 </td></tr>\n",
       "\t<tr><td>1    </td><td>13.16</td><td>2.36 </td><td>2.67 </td><td>18.6 </td><td>101  </td><td>2.80 </td><td>3.24 </td><td>0.30 </td><td>2.81 </td><td>5.68 </td><td>1.03 </td><td>3.17 </td><td>1185 </td></tr>\n",
       "\t<tr><td>1    </td><td>14.37</td><td>1.95 </td><td>2.50 </td><td>16.8 </td><td>113  </td><td>3.85 </td><td>3.49 </td><td>0.24 </td><td>2.18 </td><td>7.80 </td><td>0.86 </td><td>3.45 </td><td>1480 </td></tr>\n",
       "\t<tr><td>1    </td><td>13.24</td><td>2.59 </td><td>2.87 </td><td>21.0 </td><td>118  </td><td>2.80 </td><td>2.69 </td><td>0.39 </td><td>1.82 </td><td>4.32 </td><td>1.04 </td><td>2.93 </td><td> 735 </td></tr>\n",
       "\t<tr><td>1    </td><td>14.20</td><td>1.76 </td><td>2.45 </td><td>15.2 </td><td>112  </td><td>3.27 </td><td>3.39 </td><td>0.34 </td><td>1.97 </td><td>6.75 </td><td>1.05 </td><td>2.85 </td><td>1450 </td></tr>\n",
       "\t<tr><td>1    </td><td>14.39</td><td>1.87 </td><td>2.45 </td><td>14.6 </td><td> 96  </td><td>2.50 </td><td>2.52 </td><td>0.30 </td><td>1.98 </td><td>5.25 </td><td>1.02 </td><td>3.58 </td><td>1290 </td></tr>\n",
       "</tbody>\n",
       "</table>\n"
      ],
      "text/latex": [
       "\\begin{tabular}{r|llllllllllllll}\n",
       " Classes & Alcohol & Malic.Acid & Ash & Alcalinity.Of.Ash & Magnesium & Total.Phenols & Flavanoids & Nonflavanoid.Phenols & Proanthocyanics & Color.Intensity & Hue & 0D280/0D315 & Proline\\\\\n",
       "\\hline\n",
       "\t 1     & 13.20 & 1.78  & 2.14  & 11.2  & 100   & 2.65  & 2.76  & 0.26  & 1.28  & 4.38  & 1.05  & 3.40  & 1050 \\\\\n",
       "\t 1     & 13.16 & 2.36  & 2.67  & 18.6  & 101   & 2.80  & 3.24  & 0.30  & 2.81  & 5.68  & 1.03  & 3.17  & 1185 \\\\\n",
       "\t 1     & 14.37 & 1.95  & 2.50  & 16.8  & 113   & 3.85  & 3.49  & 0.24  & 2.18  & 7.80  & 0.86  & 3.45  & 1480 \\\\\n",
       "\t 1     & 13.24 & 2.59  & 2.87  & 21.0  & 118   & 2.80  & 2.69  & 0.39  & 1.82  & 4.32  & 1.04  & 2.93  &  735 \\\\\n",
       "\t 1     & 14.20 & 1.76  & 2.45  & 15.2  & 112   & 3.27  & 3.39  & 0.34  & 1.97  & 6.75  & 1.05  & 2.85  & 1450 \\\\\n",
       "\t 1     & 14.39 & 1.87  & 2.45  & 14.6  &  96   & 2.50  & 2.52  & 0.30  & 1.98  & 5.25  & 1.02  & 3.58  & 1290 \\\\\n",
       "\\end{tabular}\n"
      ],
      "text/markdown": [
       "\n",
       "| Classes | Alcohol | Malic.Acid | Ash | Alcalinity.Of.Ash | Magnesium | Total.Phenols | Flavanoids | Nonflavanoid.Phenols | Proanthocyanics | Color.Intensity | Hue | 0D280/0D315 | Proline |\n",
       "|---|---|---|---|---|---|---|---|---|---|---|---|---|---|\n",
       "| 1     | 13.20 | 1.78  | 2.14  | 11.2  | 100   | 2.65  | 2.76  | 0.26  | 1.28  | 4.38  | 1.05  | 3.40  | 1050  |\n",
       "| 1     | 13.16 | 2.36  | 2.67  | 18.6  | 101   | 2.80  | 3.24  | 0.30  | 2.81  | 5.68  | 1.03  | 3.17  | 1185  |\n",
       "| 1     | 14.37 | 1.95  | 2.50  | 16.8  | 113   | 3.85  | 3.49  | 0.24  | 2.18  | 7.80  | 0.86  | 3.45  | 1480  |\n",
       "| 1     | 13.24 | 2.59  | 2.87  | 21.0  | 118   | 2.80  | 2.69  | 0.39  | 1.82  | 4.32  | 1.04  | 2.93  |  735  |\n",
       "| 1     | 14.20 | 1.76  | 2.45  | 15.2  | 112   | 3.27  | 3.39  | 0.34  | 1.97  | 6.75  | 1.05  | 2.85  | 1450  |\n",
       "| 1     | 14.39 | 1.87  | 2.45  | 14.6  |  96   | 2.50  | 2.52  | 0.30  | 1.98  | 5.25  | 1.02  | 3.58  | 1290  |\n",
       "\n"
      ],
      "text/plain": [
       "  Classes Alcohol Malic.Acid Ash  Alcalinity.Of.Ash Magnesium Total.Phenols\n",
       "1 1       13.20   1.78       2.14 11.2              100       2.65         \n",
       "2 1       13.16   2.36       2.67 18.6              101       2.80         \n",
       "3 1       14.37   1.95       2.50 16.8              113       3.85         \n",
       "4 1       13.24   2.59       2.87 21.0              118       2.80         \n",
       "5 1       14.20   1.76       2.45 15.2              112       3.27         \n",
       "6 1       14.39   1.87       2.45 14.6               96       2.50         \n",
       "  Flavanoids Nonflavanoid.Phenols Proanthocyanics Color.Intensity Hue \n",
       "1 2.76       0.26                 1.28            4.38            1.05\n",
       "2 3.24       0.30                 2.81            5.68            1.03\n",
       "3 3.49       0.24                 2.18            7.80            0.86\n",
       "4 2.69       0.39                 1.82            4.32            1.04\n",
       "5 3.39       0.34                 1.97            6.75            1.05\n",
       "6 2.52       0.30                 1.98            5.25            1.02\n",
       "  0D280/0D315 Proline\n",
       "1 3.40        1050   \n",
       "2 3.17        1185   \n",
       "3 3.45        1480   \n",
       "4 2.93         735   \n",
       "5 2.85        1450   \n",
       "6 3.58        1290   "
      ]
     },
     "metadata": {},
     "output_type": "display_data"
    }
   ],
   "source": [
    "head(wine)"
   ]
  },
  {
   "cell_type": "code",
   "execution_count": 283,
   "metadata": {},
   "outputs": [
    {
     "data": {
      "text/html": [
       "<table>\n",
       "<thead><tr><th></th><th scope=col>Classes</th><th scope=col>Alcohol</th><th scope=col>Malic.Acid</th><th scope=col>Ash</th><th scope=col>Alcalinity.Of.Ash</th><th scope=col>Magnesium</th><th scope=col>Total.Phenols</th><th scope=col>Flavanoids</th><th scope=col>Nonflavanoid.Phenols</th><th scope=col>Proanthocyanics</th><th scope=col>Color.Intensity</th><th scope=col>Hue</th><th scope=col>0D280/0D315</th><th scope=col>Proline</th></tr></thead>\n",
       "<tbody>\n",
       "\t<tr><th scope=row>140</th><td>3    </td><td>12.93</td><td>2.81 </td><td>2.70 </td><td>21.0 </td><td> 96  </td><td>1.54 </td><td>0.50 </td><td>0.53 </td><td>0.75 </td><td>4.60 </td><td>0.77 </td><td>2.31 </td><td> 600 </td></tr>\n",
       "\t<tr><th scope=row>36</th><td>1    </td><td>13.28</td><td>1.64 </td><td>2.84 </td><td>15.5 </td><td>110  </td><td>2.60 </td><td>2.68 </td><td>0.34 </td><td>1.36 </td><td>4.60 </td><td>1.09 </td><td>2.78 </td><td> 880 </td></tr>\n",
       "\t<tr><th scope=row>12</th><td>1    </td><td>13.75</td><td>1.73 </td><td>2.41 </td><td>16.0 </td><td> 89  </td><td>2.60 </td><td>2.76 </td><td>0.29 </td><td>1.81 </td><td>5.60 </td><td>1.15 </td><td>2.90 </td><td>1320 </td></tr>\n",
       "\t<tr><th scope=row>86</th><td>2    </td><td>12.16</td><td>1.61 </td><td>2.31 </td><td>22.8 </td><td> 90  </td><td>1.78 </td><td>1.69 </td><td>0.43 </td><td>1.56 </td><td>2.45 </td><td>1.33 </td><td>2.26 </td><td> 495 </td></tr>\n",
       "\t<tr><th scope=row>2</th><td>1    </td><td>13.16</td><td>2.36 </td><td>2.67 </td><td>18.6 </td><td>101  </td><td>2.80 </td><td>3.24 </td><td>0.30 </td><td>2.81 </td><td>5.68 </td><td>1.03 </td><td>3.17 </td><td>1185 </td></tr>\n",
       "\t<tr><th scope=row>163</th><td>3    </td><td>12.96</td><td>3.45 </td><td>2.35 </td><td>18.5 </td><td>106  </td><td>1.39 </td><td>0.70 </td><td>0.40 </td><td>0.94 </td><td>5.28 </td><td>0.68 </td><td>1.75 </td><td> 675 </td></tr>\n",
       "</tbody>\n",
       "</table>\n"
      ],
      "text/latex": [
       "\\begin{tabular}{r|llllllllllllll}\n",
       "  & Classes & Alcohol & Malic.Acid & Ash & Alcalinity.Of.Ash & Magnesium & Total.Phenols & Flavanoids & Nonflavanoid.Phenols & Proanthocyanics & Color.Intensity & Hue & 0D280/0D315 & Proline\\\\\n",
       "\\hline\n",
       "\t140 & 3     & 12.93 & 2.81  & 2.70  & 21.0  &  96   & 1.54  & 0.50  & 0.53  & 0.75  & 4.60  & 0.77  & 2.31  &  600 \\\\\n",
       "\t36 & 1     & 13.28 & 1.64  & 2.84  & 15.5  & 110   & 2.60  & 2.68  & 0.34  & 1.36  & 4.60  & 1.09  & 2.78  &  880 \\\\\n",
       "\t12 & 1     & 13.75 & 1.73  & 2.41  & 16.0  &  89   & 2.60  & 2.76  & 0.29  & 1.81  & 5.60  & 1.15  & 2.90  & 1320 \\\\\n",
       "\t86 & 2     & 12.16 & 1.61  & 2.31  & 22.8  &  90   & 1.78  & 1.69  & 0.43  & 1.56  & 2.45  & 1.33  & 2.26  &  495 \\\\\n",
       "\t2 & 1     & 13.16 & 2.36  & 2.67  & 18.6  & 101   & 2.80  & 3.24  & 0.30  & 2.81  & 5.68  & 1.03  & 3.17  & 1185 \\\\\n",
       "\t163 & 3     & 12.96 & 3.45  & 2.35  & 18.5  & 106   & 1.39  & 0.70  & 0.40  & 0.94  & 5.28  & 0.68  & 1.75  &  675 \\\\\n",
       "\\end{tabular}\n"
      ],
      "text/markdown": [
       "\n",
       "| <!--/--> | Classes | Alcohol | Malic.Acid | Ash | Alcalinity.Of.Ash | Magnesium | Total.Phenols | Flavanoids | Nonflavanoid.Phenols | Proanthocyanics | Color.Intensity | Hue | 0D280/0D315 | Proline |\n",
       "|---|---|---|---|---|---|---|---|---|---|---|---|---|---|---|\n",
       "| 140 | 3     | 12.93 | 2.81  | 2.70  | 21.0  |  96   | 1.54  | 0.50  | 0.53  | 0.75  | 4.60  | 0.77  | 2.31  |  600  |\n",
       "| 36 | 1     | 13.28 | 1.64  | 2.84  | 15.5  | 110   | 2.60  | 2.68  | 0.34  | 1.36  | 4.60  | 1.09  | 2.78  |  880  |\n",
       "| 12 | 1     | 13.75 | 1.73  | 2.41  | 16.0  |  89   | 2.60  | 2.76  | 0.29  | 1.81  | 5.60  | 1.15  | 2.90  | 1320  |\n",
       "| 86 | 2     | 12.16 | 1.61  | 2.31  | 22.8  |  90   | 1.78  | 1.69  | 0.43  | 1.56  | 2.45  | 1.33  | 2.26  |  495  |\n",
       "| 2 | 1     | 13.16 | 2.36  | 2.67  | 18.6  | 101   | 2.80  | 3.24  | 0.30  | 2.81  | 5.68  | 1.03  | 3.17  | 1185  |\n",
       "| 163 | 3     | 12.96 | 3.45  | 2.35  | 18.5  | 106   | 1.39  | 0.70  | 0.40  | 0.94  | 5.28  | 0.68  | 1.75  |  675  |\n",
       "\n"
      ],
      "text/plain": [
       "    Classes Alcohol Malic.Acid Ash  Alcalinity.Of.Ash Magnesium Total.Phenols\n",
       "140 3       12.93   2.81       2.70 21.0               96       1.54         \n",
       "36  1       13.28   1.64       2.84 15.5              110       2.60         \n",
       "12  1       13.75   1.73       2.41 16.0               89       2.60         \n",
       "86  2       12.16   1.61       2.31 22.8               90       1.78         \n",
       "2   1       13.16   2.36       2.67 18.6              101       2.80         \n",
       "163 3       12.96   3.45       2.35 18.5              106       1.39         \n",
       "    Flavanoids Nonflavanoid.Phenols Proanthocyanics Color.Intensity Hue \n",
       "140 0.50       0.53                 0.75            4.60            0.77\n",
       "36  2.68       0.34                 1.36            4.60            1.09\n",
       "12  2.76       0.29                 1.81            5.60            1.15\n",
       "86  1.69       0.43                 1.56            2.45            1.33\n",
       "2   3.24       0.30                 2.81            5.68            1.03\n",
       "163 0.70       0.40                 0.94            5.28            0.68\n",
       "    0D280/0D315 Proline\n",
       "140 2.31         600   \n",
       "36  2.78         880   \n",
       "12  2.90        1320   \n",
       "86  2.26         495   \n",
       "2   3.17        1185   \n",
       "163 1.75         675   "
      ]
     },
     "metadata": {},
     "output_type": "display_data"
    }
   ],
   "source": [
    "wine<-shuffle(wine)\n",
    "head(wine)"
   ]
  },
  {
   "cell_type": "code",
   "execution_count": 284,
   "metadata": {},
   "outputs": [
    {
     "data": {
      "text/html": [
       "123"
      ],
      "text/latex": [
       "123"
      ],
      "text/markdown": [
       "123"
      ],
      "text/plain": [
       "[1] 123"
      ]
     },
     "metadata": {},
     "output_type": "display_data"
    },
    {
     "data": {
      "text/html": [
       "54"
      ],
      "text/latex": [
       "54"
      ],
      "text/markdown": [
       "54"
      ],
      "text/plain": [
       "[1] 54"
      ]
     },
     "metadata": {},
     "output_type": "display_data"
    }
   ],
   "source": [
    "wine_train<-train_test_sep(wine)[[1]]\n",
    "wine_test<-train_test_sep(wine)[[2]]\n",
    "nrow(wine_train)\n",
    "nrow(wine_test)"
   ]
  },
  {
   "cell_type": "markdown",
   "metadata": {},
   "source": [
    "# Zoo"
   ]
  },
  {
   "cell_type": "code",
   "execution_count": 285,
   "metadata": {},
   "outputs": [
    {
     "data": {
      "text/html": [
       "<table>\n",
       "<thead><tr><th scope=col>Name</th><th scope=col>Hair</th><th scope=col>Geathers</th><th scope=col>Eggs</th><th scope=col>Milk</th><th scope=col>Airborne</th><th scope=col>Aquatic</th><th scope=col>Predator</th><th scope=col>Toothed</th><th scope=col>Backbone</th><th scope=col>Breathes</th><th scope=col>Venomous</th><th scope=col>Fins</th><th scope=col>Legs</th><th scope=col>Tail</th><th scope=col>Domestic</th><th scope=col>Catsize</th><th scope=col>Type</th></tr></thead>\n",
       "<tbody>\n",
       "\t<tr><td>antelope</td><td>1       </td><td>0       </td><td>0       </td><td>1       </td><td>0       </td><td>0       </td><td>0       </td><td>1       </td><td>1       </td><td>1       </td><td>0       </td><td>0       </td><td>4       </td><td>1       </td><td>0       </td><td>1       </td><td>1       </td></tr>\n",
       "\t<tr><td>bass    </td><td>0       </td><td>0       </td><td>1       </td><td>0       </td><td>0       </td><td>1       </td><td>1       </td><td>1       </td><td>1       </td><td>0       </td><td>0       </td><td>1       </td><td>0       </td><td>1       </td><td>0       </td><td>0       </td><td>4       </td></tr>\n",
       "\t<tr><td>bear    </td><td>1       </td><td>0       </td><td>0       </td><td>1       </td><td>0       </td><td>0       </td><td>1       </td><td>1       </td><td>1       </td><td>1       </td><td>0       </td><td>0       </td><td>4       </td><td>0       </td><td>0       </td><td>1       </td><td>1       </td></tr>\n",
       "\t<tr><td>boar    </td><td>1       </td><td>0       </td><td>0       </td><td>1       </td><td>0       </td><td>0       </td><td>1       </td><td>1       </td><td>1       </td><td>1       </td><td>0       </td><td>0       </td><td>4       </td><td>1       </td><td>0       </td><td>1       </td><td>1       </td></tr>\n",
       "\t<tr><td>buffalo </td><td>1       </td><td>0       </td><td>0       </td><td>1       </td><td>0       </td><td>0       </td><td>0       </td><td>1       </td><td>1       </td><td>1       </td><td>0       </td><td>0       </td><td>4       </td><td>1       </td><td>0       </td><td>1       </td><td>1       </td></tr>\n",
       "\t<tr><td>calf    </td><td>1       </td><td>0       </td><td>0       </td><td>1       </td><td>0       </td><td>0       </td><td>0       </td><td>1       </td><td>1       </td><td>1       </td><td>0       </td><td>0       </td><td>4       </td><td>1       </td><td>1       </td><td>1       </td><td>1       </td></tr>\n",
       "</tbody>\n",
       "</table>\n"
      ],
      "text/latex": [
       "\\begin{tabular}{r|llllllllllllllllll}\n",
       " Name & Hair & Geathers & Eggs & Milk & Airborne & Aquatic & Predator & Toothed & Backbone & Breathes & Venomous & Fins & Legs & Tail & Domestic & Catsize & Type\\\\\n",
       "\\hline\n",
       "\t antelope & 1        & 0        & 0        & 1        & 0        & 0        & 0        & 1        & 1        & 1        & 0        & 0        & 4        & 1        & 0        & 1        & 1       \\\\\n",
       "\t bass     & 0        & 0        & 1        & 0        & 0        & 1        & 1        & 1        & 1        & 0        & 0        & 1        & 0        & 1        & 0        & 0        & 4       \\\\\n",
       "\t bear     & 1        & 0        & 0        & 1        & 0        & 0        & 1        & 1        & 1        & 1        & 0        & 0        & 4        & 0        & 0        & 1        & 1       \\\\\n",
       "\t boar     & 1        & 0        & 0        & 1        & 0        & 0        & 1        & 1        & 1        & 1        & 0        & 0        & 4        & 1        & 0        & 1        & 1       \\\\\n",
       "\t buffalo  & 1        & 0        & 0        & 1        & 0        & 0        & 0        & 1        & 1        & 1        & 0        & 0        & 4        & 1        & 0        & 1        & 1       \\\\\n",
       "\t calf     & 1        & 0        & 0        & 1        & 0        & 0        & 0        & 1        & 1        & 1        & 0        & 0        & 4        & 1        & 1        & 1        & 1       \\\\\n",
       "\\end{tabular}\n"
      ],
      "text/markdown": [
       "\n",
       "| Name | Hair | Geathers | Eggs | Milk | Airborne | Aquatic | Predator | Toothed | Backbone | Breathes | Venomous | Fins | Legs | Tail | Domestic | Catsize | Type |\n",
       "|---|---|---|---|---|---|---|---|---|---|---|---|---|---|---|---|---|---|\n",
       "| antelope | 1        | 0        | 0        | 1        | 0        | 0        | 0        | 1        | 1        | 1        | 0        | 0        | 4        | 1        | 0        | 1        | 1        |\n",
       "| bass     | 0        | 0        | 1        | 0        | 0        | 1        | 1        | 1        | 1        | 0        | 0        | 1        | 0        | 1        | 0        | 0        | 4        |\n",
       "| bear     | 1        | 0        | 0        | 1        | 0        | 0        | 1        | 1        | 1        | 1        | 0        | 0        | 4        | 0        | 0        | 1        | 1        |\n",
       "| boar     | 1        | 0        | 0        | 1        | 0        | 0        | 1        | 1        | 1        | 1        | 0        | 0        | 4        | 1        | 0        | 1        | 1        |\n",
       "| buffalo  | 1        | 0        | 0        | 1        | 0        | 0        | 0        | 1        | 1        | 1        | 0        | 0        | 4        | 1        | 0        | 1        | 1        |\n",
       "| calf     | 1        | 0        | 0        | 1        | 0        | 0        | 0        | 1        | 1        | 1        | 0        | 0        | 4        | 1        | 1        | 1        | 1        |\n",
       "\n"
      ],
      "text/plain": [
       "  Name     Hair Geathers Eggs Milk Airborne Aquatic Predator Toothed Backbone\n",
       "1 antelope 1    0        0    1    0        0       0        1       1       \n",
       "2 bass     0    0        1    0    0        1       1        1       1       \n",
       "3 bear     1    0        0    1    0        0       1        1       1       \n",
       "4 boar     1    0        0    1    0        0       1        1       1       \n",
       "5 buffalo  1    0        0    1    0        0       0        1       1       \n",
       "6 calf     1    0        0    1    0        0       0        1       1       \n",
       "  Breathes Venomous Fins Legs Tail Domestic Catsize Type\n",
       "1 1        0        0    4    1    0        1       1   \n",
       "2 0        0        1    0    1    0        0       4   \n",
       "3 1        0        0    4    0    0        1       1   \n",
       "4 1        0        0    4    1    0        1       1   \n",
       "5 1        0        0    4    1    0        1       1   \n",
       "6 1        0        0    4    1    1        1       1   "
      ]
     },
     "metadata": {},
     "output_type": "display_data"
    }
   ],
   "source": [
    "head(zoo)"
   ]
  },
  {
   "cell_type": "code",
   "execution_count": 286,
   "metadata": {},
   "outputs": [
    {
     "data": {
      "text/html": [
       "<table>\n",
       "<thead><tr><th></th><th scope=col>Name</th><th scope=col>Hair</th><th scope=col>Geathers</th><th scope=col>Eggs</th><th scope=col>Milk</th><th scope=col>Airborne</th><th scope=col>Aquatic</th><th scope=col>Predator</th><th scope=col>Toothed</th><th scope=col>Backbone</th><th scope=col>Breathes</th><th scope=col>Venomous</th><th scope=col>Fins</th><th scope=col>Legs</th><th scope=col>Tail</th><th scope=col>Domestic</th><th scope=col>Catsize</th><th scope=col>Type</th></tr></thead>\n",
       "<tbody>\n",
       "\t<tr><th scope=row>90</th><td>tortoise</td><td>0       </td><td>0       </td><td>1       </td><td>0       </td><td>0       </td><td>0       </td><td>0       </td><td>0       </td><td>1       </td><td>1       </td><td>0       </td><td>0       </td><td>4       </td><td>1       </td><td>0       </td><td>1       </td><td>3       </td></tr>\n",
       "\t<tr><th scope=row>44</th><td>leopard </td><td>1       </td><td>0       </td><td>0       </td><td>1       </td><td>0       </td><td>0       </td><td>1       </td><td>1       </td><td>1       </td><td>1       </td><td>0       </td><td>0       </td><td>4       </td><td>1       </td><td>0       </td><td>1       </td><td>1       </td></tr>\n",
       "\t<tr><th scope=row>4</th><td>boar    </td><td>1       </td><td>0       </td><td>0       </td><td>1       </td><td>0       </td><td>0       </td><td>1       </td><td>1       </td><td>1       </td><td>1       </td><td>0       </td><td>0       </td><td>4       </td><td>1       </td><td>0       </td><td>1       </td><td>1       </td></tr>\n",
       "\t<tr><th scope=row>35</th><td>hamster </td><td>1       </td><td>0       </td><td>0       </td><td>1       </td><td>0       </td><td>0       </td><td>0       </td><td>1       </td><td>1       </td><td>1       </td><td>0       </td><td>0       </td><td>4       </td><td>1       </td><td>1       </td><td>0       </td><td>1       </td></tr>\n",
       "\t<tr><th scope=row>74</th><td>seal    </td><td>1       </td><td>0       </td><td>0       </td><td>1       </td><td>0       </td><td>1       </td><td>1       </td><td>1       </td><td>1       </td><td>1       </td><td>0       </td><td>1       </td><td>0       </td><td>0       </td><td>0       </td><td>1       </td><td>1       </td></tr>\n",
       "\t<tr><th scope=row>65</th><td>pony    </td><td>1       </td><td>0       </td><td>0       </td><td>1       </td><td>0       </td><td>0       </td><td>0       </td><td>1       </td><td>1       </td><td>1       </td><td>0       </td><td>0       </td><td>4       </td><td>1       </td><td>1       </td><td>1       </td><td>1       </td></tr>\n",
       "</tbody>\n",
       "</table>\n"
      ],
      "text/latex": [
       "\\begin{tabular}{r|llllllllllllllllll}\n",
       "  & Name & Hair & Geathers & Eggs & Milk & Airborne & Aquatic & Predator & Toothed & Backbone & Breathes & Venomous & Fins & Legs & Tail & Domestic & Catsize & Type\\\\\n",
       "\\hline\n",
       "\t90 & tortoise & 0        & 0        & 1        & 0        & 0        & 0        & 0        & 0        & 1        & 1        & 0        & 0        & 4        & 1        & 0        & 1        & 3       \\\\\n",
       "\t44 & leopard  & 1        & 0        & 0        & 1        & 0        & 0        & 1        & 1        & 1        & 1        & 0        & 0        & 4        & 1        & 0        & 1        & 1       \\\\\n",
       "\t4 & boar     & 1        & 0        & 0        & 1        & 0        & 0        & 1        & 1        & 1        & 1        & 0        & 0        & 4        & 1        & 0        & 1        & 1       \\\\\n",
       "\t35 & hamster  & 1        & 0        & 0        & 1        & 0        & 0        & 0        & 1        & 1        & 1        & 0        & 0        & 4        & 1        & 1        & 0        & 1       \\\\\n",
       "\t74 & seal     & 1        & 0        & 0        & 1        & 0        & 1        & 1        & 1        & 1        & 1        & 0        & 1        & 0        & 0        & 0        & 1        & 1       \\\\\n",
       "\t65 & pony     & 1        & 0        & 0        & 1        & 0        & 0        & 0        & 1        & 1        & 1        & 0        & 0        & 4        & 1        & 1        & 1        & 1       \\\\\n",
       "\\end{tabular}\n"
      ],
      "text/markdown": [
       "\n",
       "| <!--/--> | Name | Hair | Geathers | Eggs | Milk | Airborne | Aquatic | Predator | Toothed | Backbone | Breathes | Venomous | Fins | Legs | Tail | Domestic | Catsize | Type |\n",
       "|---|---|---|---|---|---|---|---|---|---|---|---|---|---|---|---|---|---|---|\n",
       "| 90 | tortoise | 0        | 0        | 1        | 0        | 0        | 0        | 0        | 0        | 1        | 1        | 0        | 0        | 4        | 1        | 0        | 1        | 3        |\n",
       "| 44 | leopard  | 1        | 0        | 0        | 1        | 0        | 0        | 1        | 1        | 1        | 1        | 0        | 0        | 4        | 1        | 0        | 1        | 1        |\n",
       "| 4 | boar     | 1        | 0        | 0        | 1        | 0        | 0        | 1        | 1        | 1        | 1        | 0        | 0        | 4        | 1        | 0        | 1        | 1        |\n",
       "| 35 | hamster  | 1        | 0        | 0        | 1        | 0        | 0        | 0        | 1        | 1        | 1        | 0        | 0        | 4        | 1        | 1        | 0        | 1        |\n",
       "| 74 | seal     | 1        | 0        | 0        | 1        | 0        | 1        | 1        | 1        | 1        | 1        | 0        | 1        | 0        | 0        | 0        | 1        | 1        |\n",
       "| 65 | pony     | 1        | 0        | 0        | 1        | 0        | 0        | 0        | 1        | 1        | 1        | 0        | 0        | 4        | 1        | 1        | 1        | 1        |\n",
       "\n"
      ],
      "text/plain": [
       "   Name     Hair Geathers Eggs Milk Airborne Aquatic Predator Toothed Backbone\n",
       "90 tortoise 0    0        1    0    0        0       0        0       1       \n",
       "44 leopard  1    0        0    1    0        0       1        1       1       \n",
       "4  boar     1    0        0    1    0        0       1        1       1       \n",
       "35 hamster  1    0        0    1    0        0       0        1       1       \n",
       "74 seal     1    0        0    1    0        1       1        1       1       \n",
       "65 pony     1    0        0    1    0        0       0        1       1       \n",
       "   Breathes Venomous Fins Legs Tail Domestic Catsize Type\n",
       "90 1        0        0    4    1    0        1       3   \n",
       "44 1        0        0    4    1    0        1       1   \n",
       "4  1        0        0    4    1    0        1       1   \n",
       "35 1        0        0    4    1    1        0       1   \n",
       "74 1        0        1    0    0    0        1       1   \n",
       "65 1        0        0    4    1    1        1       1   "
      ]
     },
     "metadata": {},
     "output_type": "display_data"
    }
   ],
   "source": [
    "zoo<-shuffle(zoo)\n",
    "head(zoo)"
   ]
  },
  {
   "cell_type": "code",
   "execution_count": 287,
   "metadata": {},
   "outputs": [
    {
     "data": {
      "text/html": [
       "70"
      ],
      "text/latex": [
       "70"
      ],
      "text/markdown": [
       "70"
      ],
      "text/plain": [
       "[1] 70"
      ]
     },
     "metadata": {},
     "output_type": "display_data"
    },
    {
     "data": {
      "text/html": [
       "30"
      ],
      "text/latex": [
       "30"
      ],
      "text/markdown": [
       "30"
      ],
      "text/plain": [
       "[1] 30"
      ]
     },
     "metadata": {},
     "output_type": "display_data"
    }
   ],
   "source": [
    "zoo_train<-train_test_sep(zoo)[[1]]\n",
    "zoo_test<-train_test_sep(zoo)[[2]]\n",
    "nrow(zoo_train)\n",
    "nrow(zoo_test)"
   ]
  },
  {
   "cell_type": "markdown",
   "metadata": {},
   "source": [
    "#  Heart"
   ]
  },
  {
   "cell_type": "code",
   "execution_count": 265,
   "metadata": {},
   "outputs": [
    {
     "data": {
      "text/html": [
       "<table>\n",
       "<thead><tr><th scope=col>age</th><th scope=col>sex</th><th scope=col>cp</th><th scope=col>trestbps</th><th scope=col>chol</th><th scope=col>fbs</th><th scope=col>restecg</th><th scope=col>thalach</th><th scope=col>exang</th><th scope=col>oldpeak</th><th scope=col>slope</th><th scope=col>ca</th><th scope=col>thal</th><th scope=col>target</th></tr></thead>\n",
       "<tbody>\n",
       "\t<tr><td>63 </td><td>1  </td><td>3  </td><td>145</td><td>233</td><td>1  </td><td>0  </td><td>150</td><td>0  </td><td>2.3</td><td>0  </td><td>0  </td><td>1  </td><td>1  </td></tr>\n",
       "\t<tr><td>37 </td><td>1  </td><td>2  </td><td>130</td><td>250</td><td>0  </td><td>1  </td><td>187</td><td>0  </td><td>3.5</td><td>0  </td><td>0  </td><td>2  </td><td>1  </td></tr>\n",
       "\t<tr><td>41 </td><td>0  </td><td>1  </td><td>130</td><td>204</td><td>0  </td><td>0  </td><td>172</td><td>0  </td><td>1.4</td><td>2  </td><td>0  </td><td>2  </td><td>1  </td></tr>\n",
       "\t<tr><td>56 </td><td>1  </td><td>1  </td><td>120</td><td>236</td><td>0  </td><td>1  </td><td>178</td><td>0  </td><td>0.8</td><td>2  </td><td>0  </td><td>2  </td><td>1  </td></tr>\n",
       "\t<tr><td>57 </td><td>0  </td><td>0  </td><td>120</td><td>354</td><td>0  </td><td>1  </td><td>163</td><td>1  </td><td>0.6</td><td>2  </td><td>0  </td><td>2  </td><td>1  </td></tr>\n",
       "\t<tr><td>57 </td><td>1  </td><td>0  </td><td>140</td><td>192</td><td>0  </td><td>1  </td><td>148</td><td>0  </td><td>0.4</td><td>1  </td><td>0  </td><td>1  </td><td>1  </td></tr>\n",
       "</tbody>\n",
       "</table>\n"
      ],
      "text/latex": [
       "\\begin{tabular}{r|llllllllllllll}\n",
       " age & sex & cp & trestbps & chol & fbs & restecg & thalach & exang & oldpeak & slope & ca & thal & target\\\\\n",
       "\\hline\n",
       "\t 63  & 1   & 3   & 145 & 233 & 1   & 0   & 150 & 0   & 2.3 & 0   & 0   & 1   & 1  \\\\\n",
       "\t 37  & 1   & 2   & 130 & 250 & 0   & 1   & 187 & 0   & 3.5 & 0   & 0   & 2   & 1  \\\\\n",
       "\t 41  & 0   & 1   & 130 & 204 & 0   & 0   & 172 & 0   & 1.4 & 2   & 0   & 2   & 1  \\\\\n",
       "\t 56  & 1   & 1   & 120 & 236 & 0   & 1   & 178 & 0   & 0.8 & 2   & 0   & 2   & 1  \\\\\n",
       "\t 57  & 0   & 0   & 120 & 354 & 0   & 1   & 163 & 1   & 0.6 & 2   & 0   & 2   & 1  \\\\\n",
       "\t 57  & 1   & 0   & 140 & 192 & 0   & 1   & 148 & 0   & 0.4 & 1   & 0   & 1   & 1  \\\\\n",
       "\\end{tabular}\n"
      ],
      "text/markdown": [
       "\n",
       "| age | sex | cp | trestbps | chol | fbs | restecg | thalach | exang | oldpeak | slope | ca | thal | target |\n",
       "|---|---|---|---|---|---|---|---|---|---|---|---|---|---|\n",
       "| 63  | 1   | 3   | 145 | 233 | 1   | 0   | 150 | 0   | 2.3 | 0   | 0   | 1   | 1   |\n",
       "| 37  | 1   | 2   | 130 | 250 | 0   | 1   | 187 | 0   | 3.5 | 0   | 0   | 2   | 1   |\n",
       "| 41  | 0   | 1   | 130 | 204 | 0   | 0   | 172 | 0   | 1.4 | 2   | 0   | 2   | 1   |\n",
       "| 56  | 1   | 1   | 120 | 236 | 0   | 1   | 178 | 0   | 0.8 | 2   | 0   | 2   | 1   |\n",
       "| 57  | 0   | 0   | 120 | 354 | 0   | 1   | 163 | 1   | 0.6 | 2   | 0   | 2   | 1   |\n",
       "| 57  | 1   | 0   | 140 | 192 | 0   | 1   | 148 | 0   | 0.4 | 1   | 0   | 1   | 1   |\n",
       "\n"
      ],
      "text/plain": [
       "  age sex cp trestbps chol fbs restecg thalach exang oldpeak slope ca thal\n",
       "1 63  1   3  145      233  1   0       150     0     2.3     0     0  1   \n",
       "2 37  1   2  130      250  0   1       187     0     3.5     0     0  2   \n",
       "3 41  0   1  130      204  0   0       172     0     1.4     2     0  2   \n",
       "4 56  1   1  120      236  0   1       178     0     0.8     2     0  2   \n",
       "5 57  0   0  120      354  0   1       163     1     0.6     2     0  2   \n",
       "6 57  1   0  140      192  0   1       148     0     0.4     1     0  1   \n",
       "  target\n",
       "1 1     \n",
       "2 1     \n",
       "3 1     \n",
       "4 1     \n",
       "5 1     \n",
       "6 1     "
      ]
     },
     "metadata": {},
     "output_type": "display_data"
    }
   ],
   "source": [
    "head(heart)"
   ]
  },
  {
   "cell_type": "code",
   "execution_count": 313,
   "metadata": {},
   "outputs": [],
   "source": [
    "heart$ca[heart$ca == 4] <- NA\n"
   ]
  },
  {
   "cell_type": "code",
   "execution_count": 317,
   "metadata": {},
   "outputs": [],
   "source": [
    "heart<-replace_na(heart,\"target\")"
   ]
  },
  {
   "cell_type": "code",
   "execution_count": 303,
   "metadata": {},
   "outputs": [
    {
     "data": {
      "text/html": [
       "<table>\n",
       "<thead><tr><th></th><th scope=col>age</th><th scope=col>sex</th><th scope=col>cp</th><th scope=col>trestbps</th><th scope=col>chol</th><th scope=col>fbs</th><th scope=col>restecg</th><th scope=col>thalach</th><th scope=col>exang</th><th scope=col>oldpeak</th><th scope=col>slope</th><th scope=col>ca</th><th scope=col>thal</th><th scope=col>target</th></tr></thead>\n",
       "<tbody>\n",
       "\t<tr><th scope=row>233</th><td>55 </td><td>1  </td><td>0  </td><td>160</td><td>289</td><td>0  </td><td>0  </td><td>145</td><td>1  </td><td>0.8</td><td>1  </td><td>1  </td><td>3  </td><td>0  </td></tr>\n",
       "\t<tr><th scope=row>114</th><td>43 </td><td>1  </td><td>0  </td><td>110</td><td>211</td><td>0  </td><td>1  </td><td>161</td><td>0  </td><td>0.0</td><td>2  </td><td>0  </td><td>3  </td><td>1  </td></tr>\n",
       "\t<tr><th scope=row>103</th><td>63 </td><td>0  </td><td>1  </td><td>140</td><td>195</td><td>0  </td><td>1  </td><td>179</td><td>0  </td><td>0.0</td><td>2  </td><td>2  </td><td>2  </td><td>1  </td></tr>\n",
       "\t<tr><th scope=row>269</th><td>54 </td><td>1  </td><td>0  </td><td>122</td><td>286</td><td>0  </td><td>0  </td><td>116</td><td>1  </td><td>3.2</td><td>1  </td><td>2  </td><td>2  </td><td>0  </td></tr>\n",
       "\t<tr><th scope=row>268</th><td>49 </td><td>1  </td><td>2  </td><td>118</td><td>149</td><td>0  </td><td>0  </td><td>126</td><td>0  </td><td>0.8</td><td>2  </td><td>3  </td><td>2  </td><td>0  </td></tr>\n",
       "\t<tr><th scope=row>204</th><td>68 </td><td>1  </td><td>2  </td><td>180</td><td>274</td><td>1  </td><td>0  </td><td>150</td><td>1  </td><td>1.6</td><td>1  </td><td>0  </td><td>3  </td><td>0  </td></tr>\n",
       "</tbody>\n",
       "</table>\n"
      ],
      "text/latex": [
       "\\begin{tabular}{r|llllllllllllll}\n",
       "  & age & sex & cp & trestbps & chol & fbs & restecg & thalach & exang & oldpeak & slope & ca & thal & target\\\\\n",
       "\\hline\n",
       "\t233 & 55  & 1   & 0   & 160 & 289 & 0   & 0   & 145 & 1   & 0.8 & 1   & 1   & 3   & 0  \\\\\n",
       "\t114 & 43  & 1   & 0   & 110 & 211 & 0   & 1   & 161 & 0   & 0.0 & 2   & 0   & 3   & 1  \\\\\n",
       "\t103 & 63  & 0   & 1   & 140 & 195 & 0   & 1   & 179 & 0   & 0.0 & 2   & 2   & 2   & 1  \\\\\n",
       "\t269 & 54  & 1   & 0   & 122 & 286 & 0   & 0   & 116 & 1   & 3.2 & 1   & 2   & 2   & 0  \\\\\n",
       "\t268 & 49  & 1   & 2   & 118 & 149 & 0   & 0   & 126 & 0   & 0.8 & 2   & 3   & 2   & 0  \\\\\n",
       "\t204 & 68  & 1   & 2   & 180 & 274 & 1   & 0   & 150 & 1   & 1.6 & 1   & 0   & 3   & 0  \\\\\n",
       "\\end{tabular}\n"
      ],
      "text/markdown": [
       "\n",
       "| <!--/--> | age | sex | cp | trestbps | chol | fbs | restecg | thalach | exang | oldpeak | slope | ca | thal | target |\n",
       "|---|---|---|---|---|---|---|---|---|---|---|---|---|---|---|\n",
       "| 233 | 55  | 1   | 0   | 160 | 289 | 0   | 0   | 145 | 1   | 0.8 | 1   | 1   | 3   | 0   |\n",
       "| 114 | 43  | 1   | 0   | 110 | 211 | 0   | 1   | 161 | 0   | 0.0 | 2   | 0   | 3   | 1   |\n",
       "| 103 | 63  | 0   | 1   | 140 | 195 | 0   | 1   | 179 | 0   | 0.0 | 2   | 2   | 2   | 1   |\n",
       "| 269 | 54  | 1   | 0   | 122 | 286 | 0   | 0   | 116 | 1   | 3.2 | 1   | 2   | 2   | 0   |\n",
       "| 268 | 49  | 1   | 2   | 118 | 149 | 0   | 0   | 126 | 0   | 0.8 | 2   | 3   | 2   | 0   |\n",
       "| 204 | 68  | 1   | 2   | 180 | 274 | 1   | 0   | 150 | 1   | 1.6 | 1   | 0   | 3   | 0   |\n",
       "\n"
      ],
      "text/plain": [
       "    age sex cp trestbps chol fbs restecg thalach exang oldpeak slope ca thal\n",
       "233 55  1   0  160      289  0   0       145     1     0.8     1     1  3   \n",
       "114 43  1   0  110      211  0   1       161     0     0.0     2     0  3   \n",
       "103 63  0   1  140      195  0   1       179     0     0.0     2     2  2   \n",
       "269 54  1   0  122      286  0   0       116     1     3.2     1     2  2   \n",
       "268 49  1   2  118      149  0   0       126     0     0.8     2     3  2   \n",
       "204 68  1   2  180      274  1   0       150     1     1.6     1     0  3   \n",
       "    target\n",
       "233 0     \n",
       "114 1     \n",
       "103 1     \n",
       "269 0     \n",
       "268 0     \n",
       "204 0     "
      ]
     },
     "metadata": {},
     "output_type": "display_data"
    }
   ],
   "source": [
    "heart<-shuffle(heart)\n",
    "head(heart)"
   ]
  },
  {
   "cell_type": "code",
   "execution_count": 304,
   "metadata": {},
   "outputs": [
    {
     "data": {
      "text/html": [
       "212"
      ],
      "text/latex": [
       "212"
      ],
      "text/markdown": [
       "212"
      ],
      "text/plain": [
       "[1] 212"
      ]
     },
     "metadata": {},
     "output_type": "display_data"
    },
    {
     "data": {
      "text/html": [
       "91"
      ],
      "text/latex": [
       "91"
      ],
      "text/markdown": [
       "91"
      ],
      "text/plain": [
       "[1] 91"
      ]
     },
     "metadata": {},
     "output_type": "display_data"
    }
   ],
   "source": [
    "heart_train<-train_test_sep(heart)[[1]]\n",
    "heart_test<-train_test_sep(heart)[[2]]\n",
    "nrow(heart_train)\n",
    "nrow(heart_test)"
   ]
  },
  {
   "cell_type": "markdown",
   "metadata": {},
   "source": [
    "# Airquality"
   ]
  },
  {
   "cell_type": "code",
   "execution_count": 305,
   "metadata": {},
   "outputs": [
    {
     "data": {
      "text/html": [
       "<table>\n",
       "<thead><tr><th scope=col>Ozone</th><th scope=col>Solar.R</th><th scope=col>Wind</th><th scope=col>Temp</th><th scope=col>Month</th><th scope=col>Day</th></tr></thead>\n",
       "<tbody>\n",
       "\t<tr><td>41  </td><td>190 </td><td> 7.4</td><td>67  </td><td>1   </td><td>1   </td></tr>\n",
       "\t<tr><td>36  </td><td>118 </td><td> 8.0</td><td>72  </td><td>1   </td><td>2   </td></tr>\n",
       "\t<tr><td>12  </td><td>149 </td><td>12.6</td><td>74  </td><td>1   </td><td>3   </td></tr>\n",
       "\t<tr><td>18  </td><td>313 </td><td>11.5</td><td>62  </td><td>1   </td><td>4   </td></tr>\n",
       "\t<tr><td>18  </td><td>194 </td><td>14.3</td><td>56  </td><td>1   </td><td>5   </td></tr>\n",
       "\t<tr><td>28  </td><td>194 </td><td>14.9</td><td>66  </td><td>1   </td><td>6   </td></tr>\n",
       "</tbody>\n",
       "</table>\n"
      ],
      "text/latex": [
       "\\begin{tabular}{r|llllll}\n",
       " Ozone & Solar.R & Wind & Temp & Month & Day\\\\\n",
       "\\hline\n",
       "\t 41   & 190  &  7.4 & 67   & 1    & 1   \\\\\n",
       "\t 36   & 118  &  8.0 & 72   & 1    & 2   \\\\\n",
       "\t 12   & 149  & 12.6 & 74   & 1    & 3   \\\\\n",
       "\t 18   & 313  & 11.5 & 62   & 1    & 4   \\\\\n",
       "\t 18   & 194  & 14.3 & 56   & 1    & 5   \\\\\n",
       "\t 28   & 194  & 14.9 & 66   & 1    & 6   \\\\\n",
       "\\end{tabular}\n"
      ],
      "text/markdown": [
       "\n",
       "| Ozone | Solar.R | Wind | Temp | Month | Day |\n",
       "|---|---|---|---|---|---|\n",
       "| 41   | 190  |  7.4 | 67   | 1    | 1    |\n",
       "| 36   | 118  |  8.0 | 72   | 1    | 2    |\n",
       "| 12   | 149  | 12.6 | 74   | 1    | 3    |\n",
       "| 18   | 313  | 11.5 | 62   | 1    | 4    |\n",
       "| 18   | 194  | 14.3 | 56   | 1    | 5    |\n",
       "| 28   | 194  | 14.9 | 66   | 1    | 6    |\n",
       "\n"
      ],
      "text/plain": [
       "  Ozone Solar.R Wind Temp Month Day\n",
       "1 41    190      7.4 67   1     1  \n",
       "2 36    118      8.0 72   1     2  \n",
       "3 12    149     12.6 74   1     3  \n",
       "4 18    313     11.5 62   1     4  \n",
       "5 18    194     14.3 56   1     5  \n",
       "6 28    194     14.9 66   1     6  "
      ]
     },
     "metadata": {},
     "output_type": "display_data"
    }
   ],
   "source": [
    "head(ac)"
   ]
  },
  {
   "cell_type": "code",
   "execution_count": 291,
   "metadata": {},
   "outputs": [],
   "source": [
    "ac$Month<-replace_class(ac$Month)"
   ]
  },
  {
   "cell_type": "code",
   "execution_count": 296,
   "metadata": {},
   "outputs": [],
   "source": [
    "ac<-replace_na(ac,\"Month\")"
   ]
  },
  {
   "cell_type": "code",
   "execution_count": 295,
   "metadata": {},
   "outputs": [
    {
     "data": {
      "text/html": [
       "<table>\n",
       "<thead><tr><th scope=col>Ozone</th><th scope=col>Solar.R</th><th scope=col>Wind</th><th scope=col>Temp</th><th scope=col>Month</th><th scope=col>Day</th></tr></thead>\n",
       "<tbody>\n",
       "\t<tr><td>41  </td><td>190 </td><td> 7.4</td><td>67  </td><td>1   </td><td>1   </td></tr>\n",
       "\t<tr><td>36  </td><td>118 </td><td> 8.0</td><td>72  </td><td>1   </td><td>2   </td></tr>\n",
       "\t<tr><td>12  </td><td>149 </td><td>12.6</td><td>74  </td><td>1   </td><td>3   </td></tr>\n",
       "\t<tr><td>18  </td><td>313 </td><td>11.5</td><td>62  </td><td>1   </td><td>4   </td></tr>\n",
       "\t<tr><td>NA  </td><td> NA </td><td>14.3</td><td>56  </td><td>1   </td><td>5   </td></tr>\n",
       "\t<tr><td>28  </td><td> NA </td><td>14.9</td><td>66  </td><td>1   </td><td>6   </td></tr>\n",
       "</tbody>\n",
       "</table>\n"
      ],
      "text/latex": [
       "\\begin{tabular}{r|llllll}\n",
       " Ozone & Solar.R & Wind & Temp & Month & Day\\\\\n",
       "\\hline\n",
       "\t 41   & 190  &  7.4 & 67   & 1    & 1   \\\\\n",
       "\t 36   & 118  &  8.0 & 72   & 1    & 2   \\\\\n",
       "\t 12   & 149  & 12.6 & 74   & 1    & 3   \\\\\n",
       "\t 18   & 313  & 11.5 & 62   & 1    & 4   \\\\\n",
       "\t NA   &  NA  & 14.3 & 56   & 1    & 5   \\\\\n",
       "\t 28   &  NA  & 14.9 & 66   & 1    & 6   \\\\\n",
       "\\end{tabular}\n"
      ],
      "text/markdown": [
       "\n",
       "| Ozone | Solar.R | Wind | Temp | Month | Day |\n",
       "|---|---|---|---|---|---|\n",
       "| 41   | 190  |  7.4 | 67   | 1    | 1    |\n",
       "| 36   | 118  |  8.0 | 72   | 1    | 2    |\n",
       "| 12   | 149  | 12.6 | 74   | 1    | 3    |\n",
       "| 18   | 313  | 11.5 | 62   | 1    | 4    |\n",
       "| NA   |  NA  | 14.3 | 56   | 1    | 5    |\n",
       "| 28   |  NA  | 14.9 | 66   | 1    | 6    |\n",
       "\n"
      ],
      "text/plain": [
       "  Ozone Solar.R Wind Temp Month Day\n",
       "1 41    190      7.4 67   1     1  \n",
       "2 36    118      8.0 72   1     2  \n",
       "3 12    149     12.6 74   1     3  \n",
       "4 18    313     11.5 62   1     4  \n",
       "5 NA     NA     14.3 56   1     5  \n",
       "6 28     NA     14.9 66   1     6  "
      ]
     },
     "metadata": {},
     "output_type": "display_data"
    }
   ],
   "source": [
    "head(ac)"
   ]
  },
  {
   "cell_type": "code",
   "execution_count": 297,
   "metadata": {},
   "outputs": [
    {
     "data": {
      "text/html": [
       "<table>\n",
       "<thead><tr><th scope=col>Ozone</th><th scope=col>Solar.R</th><th scope=col>Wind</th><th scope=col>Temp</th><th scope=col>Month</th><th scope=col>Day</th></tr></thead>\n",
       "<tbody>\n",
       "\t<tr><td>41  </td><td>190 </td><td> 7.4</td><td>67  </td><td>1   </td><td>1   </td></tr>\n",
       "\t<tr><td>36  </td><td>118 </td><td> 8.0</td><td>72  </td><td>1   </td><td>2   </td></tr>\n",
       "\t<tr><td>12  </td><td>149 </td><td>12.6</td><td>74  </td><td>1   </td><td>3   </td></tr>\n",
       "\t<tr><td>18  </td><td>313 </td><td>11.5</td><td>62  </td><td>1   </td><td>4   </td></tr>\n",
       "\t<tr><td>18  </td><td>194 </td><td>14.3</td><td>56  </td><td>1   </td><td>5   </td></tr>\n",
       "\t<tr><td>28  </td><td>194 </td><td>14.9</td><td>66  </td><td>1   </td><td>6   </td></tr>\n",
       "</tbody>\n",
       "</table>\n"
      ],
      "text/latex": [
       "\\begin{tabular}{r|llllll}\n",
       " Ozone & Solar.R & Wind & Temp & Month & Day\\\\\n",
       "\\hline\n",
       "\t 41   & 190  &  7.4 & 67   & 1    & 1   \\\\\n",
       "\t 36   & 118  &  8.0 & 72   & 1    & 2   \\\\\n",
       "\t 12   & 149  & 12.6 & 74   & 1    & 3   \\\\\n",
       "\t 18   & 313  & 11.5 & 62   & 1    & 4   \\\\\n",
       "\t 18   & 194  & 14.3 & 56   & 1    & 5   \\\\\n",
       "\t 28   & 194  & 14.9 & 66   & 1    & 6   \\\\\n",
       "\\end{tabular}\n"
      ],
      "text/markdown": [
       "\n",
       "| Ozone | Solar.R | Wind | Temp | Month | Day |\n",
       "|---|---|---|---|---|---|\n",
       "| 41   | 190  |  7.4 | 67   | 1    | 1    |\n",
       "| 36   | 118  |  8.0 | 72   | 1    | 2    |\n",
       "| 12   | 149  | 12.6 | 74   | 1    | 3    |\n",
       "| 18   | 313  | 11.5 | 62   | 1    | 4    |\n",
       "| 18   | 194  | 14.3 | 56   | 1    | 5    |\n",
       "| 28   | 194  | 14.9 | 66   | 1    | 6    |\n",
       "\n"
      ],
      "text/plain": [
       "  Ozone Solar.R Wind Temp Month Day\n",
       "1 41    190      7.4 67   1     1  \n",
       "2 36    118      8.0 72   1     2  \n",
       "3 12    149     12.6 74   1     3  \n",
       "4 18    313     11.5 62   1     4  \n",
       "5 18    194     14.3 56   1     5  \n",
       "6 28    194     14.9 66   1     6  "
      ]
     },
     "metadata": {},
     "output_type": "display_data"
    }
   ],
   "source": [
    "head(ac)"
   ]
  },
  {
   "cell_type": "code",
   "execution_count": 306,
   "metadata": {},
   "outputs": [
    {
     "data": {
      "text/html": [
       "<table>\n",
       "<thead><tr><th></th><th scope=col>Ozone</th><th scope=col>Solar.R</th><th scope=col>Wind</th><th scope=col>Temp</th><th scope=col>Month</th><th scope=col>Day</th></tr></thead>\n",
       "<tbody>\n",
       "\t<tr><th scope=row>113</th><td>21  </td><td>259 </td><td>15.5</td><td>77  </td><td>4   </td><td>21  </td></tr>\n",
       "\t<tr><th scope=row>76</th><td> 7  </td><td> 48 </td><td>14.3</td><td>80  </td><td>3   </td><td>15  </td></tr>\n",
       "\t<tr><th scope=row>130</th><td>20  </td><td>252 </td><td>10.9</td><td>80  </td><td>5   </td><td> 7  </td></tr>\n",
       "\t<tr><th scope=row>18</th><td> 6  </td><td> 78 </td><td>18.4</td><td>57  </td><td>1   </td><td>18  </td></tr>\n",
       "\t<tr><th scope=row>34</th><td>23  </td><td>242 </td><td>16.1</td><td>67  </td><td>2   </td><td> 3  </td></tr>\n",
       "\t<tr><th scope=row>8</th><td>19  </td><td> 99 </td><td>13.8</td><td>59  </td><td>1   </td><td> 8  </td></tr>\n",
       "</tbody>\n",
       "</table>\n"
      ],
      "text/latex": [
       "\\begin{tabular}{r|llllll}\n",
       "  & Ozone & Solar.R & Wind & Temp & Month & Day\\\\\n",
       "\\hline\n",
       "\t113 & 21   & 259  & 15.5 & 77   & 4    & 21  \\\\\n",
       "\t76 &  7   &  48  & 14.3 & 80   & 3    & 15  \\\\\n",
       "\t130 & 20   & 252  & 10.9 & 80   & 5    &  7  \\\\\n",
       "\t18 &  6   &  78  & 18.4 & 57   & 1    & 18  \\\\\n",
       "\t34 & 23   & 242  & 16.1 & 67   & 2    &  3  \\\\\n",
       "\t8 & 19   &  99  & 13.8 & 59   & 1    &  8  \\\\\n",
       "\\end{tabular}\n"
      ],
      "text/markdown": [
       "\n",
       "| <!--/--> | Ozone | Solar.R | Wind | Temp | Month | Day |\n",
       "|---|---|---|---|---|---|---|\n",
       "| 113 | 21   | 259  | 15.5 | 77   | 4    | 21   |\n",
       "| 76 |  7   |  48  | 14.3 | 80   | 3    | 15   |\n",
       "| 130 | 20   | 252  | 10.9 | 80   | 5    |  7   |\n",
       "| 18 |  6   |  78  | 18.4 | 57   | 1    | 18   |\n",
       "| 34 | 23   | 242  | 16.1 | 67   | 2    |  3   |\n",
       "| 8 | 19   |  99  | 13.8 | 59   | 1    |  8   |\n",
       "\n"
      ],
      "text/plain": [
       "    Ozone Solar.R Wind Temp Month Day\n",
       "113 21    259     15.5 77   4     21 \n",
       "76   7     48     14.3 80   3     15 \n",
       "130 20    252     10.9 80   5      7 \n",
       "18   6     78     18.4 57   1     18 \n",
       "34  23    242     16.1 67   2      3 \n",
       "8   19     99     13.8 59   1      8 "
      ]
     },
     "metadata": {},
     "output_type": "display_data"
    }
   ],
   "source": [
    "ac<-shuffle(ac)\n",
    "head(ac)"
   ]
  },
  {
   "cell_type": "code",
   "execution_count": 307,
   "metadata": {},
   "outputs": [
    {
     "data": {
      "text/html": [
       "107"
      ],
      "text/latex": [
       "107"
      ],
      "text/markdown": [
       "107"
      ],
      "text/plain": [
       "[1] 107"
      ]
     },
     "metadata": {},
     "output_type": "display_data"
    },
    {
     "data": {
      "text/html": [
       "46"
      ],
      "text/latex": [
       "46"
      ],
      "text/markdown": [
       "46"
      ],
      "text/plain": [
       "[1] 46"
      ]
     },
     "metadata": {},
     "output_type": "display_data"
    }
   ],
   "source": [
    "ac_train<-train_test_sep(ac)[[1]]\n",
    "ac_test<-train_test_sep(ac)[[2]]\n",
    "nrow(ac_train)\n",
    "nrow(ac_test)"
   ]
  }
 ],
 "metadata": {
  "kernelspec": {
   "display_name": "R",
   "language": "R",
   "name": "ir"
  },
  "language_info": {
   "codemirror_mode": "r",
   "file_extension": ".r",
   "mimetype": "text/x-r-source",
   "name": "R",
   "pygments_lexer": "r",
   "version": "3.6.1"
  }
 },
 "nbformat": 4,
 "nbformat_minor": 2
}
