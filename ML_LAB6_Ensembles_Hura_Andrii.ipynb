{
 "cells": [
  {
   "cell_type": "code",
   "execution_count": 166,
   "metadata": {},
   "outputs": [],
   "source": [
    "from sklearn import datasets\n",
    "from sklearn.model_selection import cross_val_score\n",
    "from sklearn.naive_bayes import GaussianNB\n",
    "from sklearn.neighbors import KNeighborsClassifier\n",
    "from sklearn.ensemble import VotingClassifier\n",
    "from sklearn.ensemble import BaggingClassifier\n",
    "import numpy as np\n",
    "import pandas as pd"
   ]
  },
  {
   "cell_type": "code",
   "execution_count": 98,
   "metadata": {},
   "outputs": [],
   "source": [
    "iris = datasets.load_iris()\n",
    "X, y = iris.data[:, 1:3], iris.target\n",
    "seed = 7"
   ]
  },
  {
   "cell_type": "code",
   "execution_count": 140,
   "metadata": {},
   "outputs": [],
   "source": [
    "bayes = GaussianNB()\n",
    "knn = KNeighborsClassifier(n_neighbors=5)\n",
    "cross_valid_iris = [None for x in range(7)]\n",
    "bagging_iris=[None for x in range(7)]"
   ]
  },
  {
   "cell_type": "markdown",
   "metadata": {},
   "source": [
    "# Simple KNN"
   ]
  },
  {
   "cell_type": "code",
   "execution_count": 151,
   "metadata": {},
   "outputs": [
    {
     "name": "stdout",
     "output_type": "stream",
     "text": [
      "Accuracy: 0.95  [Simple KNN with CV]\n",
      "Accuracy: 0.95  [Simple KNN without CV]\n"
     ]
    }
   ],
   "source": [
    "cross_valid_iris[0] = round(cross_val_score(knn, X, y, scoring='accuracy', cv=10).mean(),2)\n",
    "bagging_iris[0] = round(cross_val_score(knn, X, y, scoring='accuracy', cv=2).mean(),2)\n",
    "print(\"Accuracy: %0.2f  [%s]\" %\n",
    "            (cross_val_score(knn, X, y, scoring='accuracy', cv=10).mean(), \"Simple KNN with CV\"))\n",
    "print(\"Accuracy: %0.2f  [%s]\" %\n",
    "            (cross_val_score(knn, X, y, scoring='accuracy', cv=2).mean(), \"Simple KNN without CV\"))"
   ]
  },
  {
   "cell_type": "markdown",
   "metadata": {},
   "source": [
    "# Simple Bayes Wine"
   ]
  },
  {
   "cell_type": "code",
   "execution_count": 172,
   "metadata": {},
   "outputs": [
    {
     "name": "stdout",
     "output_type": "stream",
     "text": [
      "Accuracy: 0.91  [Simple NB with CV]\n",
      "Accuracy: 0.91  [Simple NB without CV]\n"
     ]
    }
   ],
   "source": [
    "cross_valid_iris[1] = round(cross_val_score(bayes, X, y, scoring='accuracy', cv=10).mean(), 2)\n",
    "bagging_iris[1] = round(cross_val_score(bayes, X, y, scoring='accuracy', cv=2).mean(),2)\n",
    "print(\"Accuracy: %0.2f  [%s]\" %\n",
    "            (cross_val_score(bayes, X, y, scoring='accuracy', cv=10).mean(), \"Simple NB with CV\"))\n",
    "print(\"Accuracy: %0.2f  [%s]\" %\n",
    "            (cross_val_score(bayes, X, y, scoring='accuracy', cv=2).mean(), \"Simple NB without CV\"))"
   ]
  },
  {
   "cell_type": "markdown",
   "metadata": {},
   "source": [
    "# KNN bagging simple for 10 folds Iris"
   ]
  },
  {
   "cell_type": "code",
   "execution_count": 155,
   "metadata": {
    "scrolled": true
   },
   "outputs": [
    {
     "name": "stdout",
     "output_type": "stream",
     "text": [
      "Accuracy: 0.96 (+/- 0.04) [Knn for 10 with cross validation]\n",
      "Accuracy: 0.94 (+/- 0.01) [Knn for 10 without cross validation]\n"
     ]
    }
   ],
   "source": [
    "bagging_knn_simple = BaggingClassifier(base_estimator=knn, n_estimators=10, random_state = seed)\n",
    "score_1 = cross_val_score(bagging_knn_simple, X, y, scoring='accuracy', cv=10)\n",
    "cross_valid_iris[2] = round(score_1.mean(),2)\n",
    "score_1_1 = cross_val_score(bagging_knn_simple, X, y, scoring='accuracy', cv=2)\n",
    "bagging_iris[2] = round(score_1_1.mean(),2)\n",
    "print(\"Accuracy: %0.2f (+/- %0.2f) [%s]\" % (score_1.mean(), score_1.std(), \"Knn for 10 with cross validation\"))\n",
    "print(\"Accuracy: %0.2f (+/- %0.2f) [%s]\" % (score_1_1.mean(), score_1_1.std(), \"Knn for 10 without cross validation\"))"
   ]
  },
  {
   "cell_type": "markdown",
   "metadata": {},
   "source": [
    "# Bayes bagging simple for 10 folds Iris"
   ]
  },
  {
   "cell_type": "code",
   "execution_count": 156,
   "metadata": {},
   "outputs": [
    {
     "name": "stdout",
     "output_type": "stream",
     "text": [
      "Accuracy: 0.93 (+/- 0.04) [NaiveBayes with CV]\n",
      "Accuracy: 0.91 (+/- 0.02) [NaiveBayes without CV]\n"
     ]
    }
   ],
   "source": [
    "bagging_nb_simple = BaggingClassifier(base_estimator=GaussianNB(), n_estimators=10, random_state = seed)\n",
    "score_2 = cross_val_score(bagging_nb_simple, X, y, scoring='accuracy', cv=10)\n",
    "cross_valid_iris[3] = round(score_2.mean(),2)\n",
    "score_2_1 = cross_val_score(bagging_nb_simple, X, y, scoring='accuracy', cv=2)\n",
    "bagging_iris[3] = round(score_2_1.mean(),2)\n",
    "print(\"Accuracy: %0.2f (+/- %0.2f) [%s]\" % (score_2.mean(), score_2.std(), \"NaiveBayes with CV\"))\n",
    "print(\"Accuracy: %0.2f (+/- %0.2f) [%s]\" % (score_2_1.mean(), score_2_1.std(), \"NaiveBayes without CV\"))"
   ]
  },
  {
   "cell_type": "markdown",
   "metadata": {},
   "source": [
    "# Mix NaiveBayes and KNN with simple voting method Iris"
   ]
  },
  {
   "cell_type": "code",
   "execution_count": 157,
   "metadata": {},
   "outputs": [
    {
     "name": "stdout",
     "output_type": "stream",
     "text": [
      "Accuracy: 0.95 (+/- 0.04) [Bayes+KNN with simple voting with CV]\n",
      "Accuracy: 0.92 (+/- 0.01) [Bayes+KNN with simple voting without CV]\n"
     ]
    }
   ],
   "source": [
    "simple_voting = VotingClassifier(estimators=[('naiveBayes', bagging_nb_simple),\n",
    "                                             ('KNN', bagging_knn_simple)], voting='soft')\n",
    "score_3 = cross_val_score(simple_voting, X, y, scoring='accuracy', cv=10)\n",
    "cross_valid_iris[4] = round(score_3.mean(),2)\n",
    "score_3_1 = cross_val_score(simple_voting, X, y, scoring='accuracy', cv=2)\n",
    "bagging_iris[4] = round(score_3_1.mean(),2)\n",
    "print(\"Accuracy: %0.2f (+/- %0.2f) [%s]\" % (score_3.mean(), score_3.std(), \"Bayes+KNN with simple voting with CV\"))\n",
    "print(\"Accuracy: %0.2f (+/- %0.2f) [%s]\" % (score_3_1.mean(), score_3_1.std(), \"Bayes+KNN with simple voting without CV\"))"
   ]
  },
  {
   "cell_type": "markdown",
   "metadata": {},
   "source": [
    "# Mix NaiveBayes and KNN with simple weighted method Iris"
   ]
  },
  {
   "cell_type": "markdown",
   "metadata": {},
   "source": [
    "## Voting is applied only to Voting classifier"
   ]
  },
  {
   "cell_type": "code",
   "execution_count": 158,
   "metadata": {},
   "outputs": [
    {
     "name": "stdout",
     "output_type": "stream",
     "text": [
      "Accuracy: 0.95 (+/- 0.04) [Bayes+KNN with weighted voting with CV]\n",
      "Accuracy: 0.93 (+/- 0.00) [Bayes+KNN with weighted voting without CV]\n"
     ]
    }
   ],
   "source": [
    "weighted_voting_1 = VotingClassifier(estimators=[('naiveBayes', bagging_nb_simple), \n",
    "                                               ('KNN', bagging_knn_simple)], voting='soft', weights=[1,2])\n",
    "score_4 = cross_val_score(weighted_voting_1, X, y, scoring='accuracy', cv=10)\n",
    "cross_valid_iris[5] = round(score_4.mean(),2)\n",
    "score_4_1 = cross_val_score(weighted_voting_1, X, y, scoring='accuracy', cv=2)\n",
    "bagging_iris[5] = round(score_4_1.mean(),2)\n",
    "print(\"Accuracy: %0.2f (+/- %0.2f) [%s]\" % (score_4.mean(), score_4.std(), \"Bayes+KNN with weighted voting with CV\"))\n",
    "print(\"Accuracy: %0.2f (+/- %0.2f) [%s]\" % (score_4_1.mean(), score_4_1.std(), \"Bayes+KNN with weighted voting without CV\"))"
   ]
  },
  {
   "cell_type": "markdown",
   "metadata": {},
   "source": [
    "# Weighted Majority"
   ]
  },
  {
   "cell_type": "code",
   "execution_count": 159,
   "metadata": {
    "scrolled": true
   },
   "outputs": [
    {
     "name": "stdout",
     "output_type": "stream",
     "text": [
      "Accuracy: 0.96 (+/- 0.04) [Bayes+KNN with Weighted Majority voting with CV]\n",
      "Accuracy: 0.94 (+/- 0.01) [Bayes+KNN with Weighted Majority without CV]\n"
     ]
    }
   ],
   "source": [
    "weighted_voting_2 = VotingClassifier(estimators=[('naiveBayes', bagging_nb_simple), \n",
    "                                               ('KNN', bagging_knn_simple)], voting='hard', weights=[1,2])\n",
    "score_5 = cross_val_score(weighted_voting_2, X, y, scoring='accuracy', cv=10)\n",
    "cross_valid_iris[6] = round(score_5.mean(),2)\n",
    "score_5_1 = cross_val_score(weighted_voting_2, X, y, scoring='accuracy', cv=2)\n",
    "bagging_iris[6] = round(score_5_1.mean(),2)\n",
    "print(\"Accuracy: %0.2f (+/- %0.2f) [%s]\" % (score_5.mean(), score_5.std(), \"Bayes+KNN with Weighted Majority voting with CV\"))\n",
    "print(\"Accuracy: %0.2f (+/- %0.2f) [%s]\" % (score_5_1.mean(), score_5_1.std(), \"Bayes+KNN with Weighted Majority without CV\"))"
   ]
  },
  {
   "cell_type": "code",
   "execution_count": 167,
   "metadata": {
    "scrolled": true
   },
   "outputs": [
    {
     "name": "stdout",
     "output_type": "stream",
     "text": [
      "                   with CV  without CV\n",
      "Simple KNN            0.95        0.95\n",
      "Simple NB             0.91        0.91\n",
      "KNN Bagging           0.96        0.94\n",
      "NB Bagging            0.93        0.91\n",
      "Simple voting         0.95        0.92\n",
      "Weighted voting       0.95        0.93\n",
      "Weighted Majority     0.96        0.94\n"
     ]
    }
   ],
   "source": [
    "resultX = [[\"Simple KNN\", \"Simple NB\", \"KNN Bagging\", \"NB Bagging\", \"Simple voting\", \"Weighted voting\",\"Weighted Majority\"]\n",
    "           ,cross_valid_iris, bagging_iris]\n",
    "dataF = {'with CV':cross_valid_iris, 'without CV':bagging_iris} \n",
    "df = pd.DataFrame(dataF, index =[\"Simple KNN\", \"Simple NB\", \"KNN Bagging\", \"NB Bagging\",\n",
    "                                 \"Simple voting\", \"Weighted voting\",\"Weighted Majority\"])\n",
    "print(df)"
   ]
  },
  {
   "cell_type": "markdown",
   "metadata": {},
   "source": [
    "# WINE"
   ]
  },
  {
   "cell_type": "code",
   "execution_count": 169,
   "metadata": {},
   "outputs": [],
   "source": [
    "wine = datasets.load_wine()\n",
    "X1, y1 = wine.data[:, 1:14], wine.target\n",
    "seed = 7\n",
    "cross_valid_wine = [None for x in range(7)]\n",
    "bagging_wine=[None for x in range(7)]"
   ]
  },
  {
   "cell_type": "markdown",
   "metadata": {},
   "source": [
    "# Simple KNN Wine"
   ]
  },
  {
   "cell_type": "code",
   "execution_count": 170,
   "metadata": {},
   "outputs": [
    {
     "name": "stdout",
     "output_type": "stream",
     "text": [
      "Accuracy: 0.68  [Simple KNN with CV]\n",
      "Accuracy: 0.66  [Simple KNN without CV]\n"
     ]
    }
   ],
   "source": [
    "cross_valid_wine[0] = round(cross_val_score(knn, X1, y1, scoring='accuracy', cv=10).mean(),2)\n",
    "bagging_wine[0] = round(cross_val_score(knn, X1, y1, scoring='accuracy', cv=2).mean(),2)\n",
    "print(\"Accuracy: %0.2f  [%s]\" %\n",
    "            (cross_val_score(knn, X1, y1, scoring='accuracy', cv=10).mean(), \"Simple KNN with CV\"))\n",
    "print(\"Accuracy: %0.2f  [%s]\" %\n",
    "            (cross_val_score(knn, X1, y1, scoring='accuracy', cv=2).mean(), \"Simple KNN without CV\"))"
   ]
  },
  {
   "cell_type": "markdown",
   "metadata": {},
   "source": [
    "# Simple Bayes Wine"
   ]
  },
  {
   "cell_type": "code",
   "execution_count": 173,
   "metadata": {},
   "outputs": [
    {
     "name": "stdout",
     "output_type": "stream",
     "text": [
      "Accuracy: 0.96  [Simple NB with CV]\n",
      "Accuracy: 0.94  [Simple NB without CV]\n"
     ]
    }
   ],
   "source": [
    "cross_valid_wine[1] = round(cross_val_score(bayes, X1, y1, scoring='accuracy', cv=10).mean(), 2)\n",
    "bagging_wine[1] = round(cross_val_score(bayes, X1, y1, scoring='accuracy', cv=2).mean(),2)\n",
    "print(\"Accuracy: %0.2f  [%s]\" %\n",
    "            (cross_val_score(bayes, X1, y1, scoring='accuracy', cv=10).mean(), \"Simple NB with CV\"))\n",
    "print(\"Accuracy: %0.2f  [%s]\" %\n",
    "            (cross_val_score(bayes, X1, y1, scoring='accuracy', cv=2).mean(), \"Simple NB without CV\"))"
   ]
  },
  {
   "cell_type": "markdown",
   "metadata": {},
   "source": [
    "# KNN bagging simple for 10 folds Wine"
   ]
  },
  {
   "cell_type": "code",
   "execution_count": 174,
   "metadata": {
    "scrolled": true
   },
   "outputs": [
    {
     "name": "stdout",
     "output_type": "stream",
     "text": [
      "Accuracy: 0.70 (+/- 0.08) [Knn for 10 with cross validation]\n",
      "Accuracy: 0.69 (+/- 0.01) [Knn for 10 without cross validation]\n"
     ]
    }
   ],
   "source": [
    "bagging_knn_simple = BaggingClassifier(base_estimator=knn, n_estimators=10, random_state = seed)\n",
    "score_1 = cross_val_score(bagging_knn_simple, X1, y1, scoring='accuracy', cv=10)\n",
    "cross_valid_wine[2] = round(score_1.mean(),2)\n",
    "score_1_1 = cross_val_score(bagging_knn_simple, X1, y1, scoring='accuracy', cv=2)\n",
    "bagging_wine[2] = round(score_1_1.mean(),2)\n",
    "print(\"Accuracy: %0.2f (+/- %0.2f) [%s]\" % (score_1.mean(), score_1.std(), \"Knn for 10 with cross validation\"))\n",
    "print(\"Accuracy: %0.2f (+/- %0.2f) [%s]\" % (score_1_1.mean(), score_1_1.std(), \"Knn for 10 without cross validation\"))"
   ]
  },
  {
   "cell_type": "markdown",
   "metadata": {},
   "source": [
    "# Bayes bagging simple for 10 folds Wine"
   ]
  },
  {
   "cell_type": "code",
   "execution_count": 175,
   "metadata": {},
   "outputs": [
    {
     "name": "stdout",
     "output_type": "stream",
     "text": [
      "Accuracy: 0.95 (+/- 0.03) [NaiveBayes with CV]\n",
      "Accuracy: 0.95 (+/- 0.02) [NaiveBayes without CV]\n"
     ]
    }
   ],
   "source": [
    "bagging_nb_simple = BaggingClassifier(base_estimator=GaussianNB(), n_estimators=10, random_state = seed)\n",
    "score_2 = cross_val_score(bagging_nb_simple, X1, y1, scoring='accuracy', cv=10)\n",
    "cross_valid_wine[3] = round(score_2.mean(),2)\n",
    "score_2_1 = cross_val_score(bagging_nb_simple, X1, y1, scoring='accuracy', cv=2)\n",
    "bagging_wine[3] = round(score_2_1.mean(),2)\n",
    "print(\"Accuracy: %0.2f (+/- %0.2f) [%s]\" % (score_2.mean(), score_2.std(), \"NaiveBayes with CV\"))\n",
    "print(\"Accuracy: %0.2f (+/- %0.2f) [%s]\" % (score_2_1.mean(), score_2_1.std(), \"NaiveBayes without CV\"))"
   ]
  },
  {
   "cell_type": "markdown",
   "metadata": {},
   "source": [
    "# Mix NaiveBayes and KNN with simple voting method Wine"
   ]
  },
  {
   "cell_type": "code",
   "execution_count": 176,
   "metadata": {},
   "outputs": [
    {
     "name": "stdout",
     "output_type": "stream",
     "text": [
      "Accuracy: 0.95 (+/- 0.05) [Bayes+KNN with simple voting with CV]\n",
      "Accuracy: 0.95 (+/- 0.02) [Bayes+KNN with simple voting without CV]\n"
     ]
    }
   ],
   "source": [
    "simple_voting = VotingClassifier(estimators=[('naiveBayes', bagging_nb_simple),\n",
    "                                             ('KNN', bagging_knn_simple)], voting='soft')\n",
    "score_3 = cross_val_score(simple_voting, X1, y1, scoring='accuracy', cv=10)\n",
    "cross_valid_wine[4] = round(score_3.mean(),2)\n",
    "score_3_1 = cross_val_score(simple_voting, X1, y1, scoring='accuracy', cv=2)\n",
    "bagging_wine[4] = round(score_3_1.mean(),2)\n",
    "print(\"Accuracy: %0.2f (+/- %0.2f) [%s]\" % (score_3.mean(), score_3.std(), \"Bayes+KNN with simple voting with CV\"))\n",
    "print(\"Accuracy: %0.2f (+/- %0.2f) [%s]\" % (score_3_1.mean(), score_3_1.std(), \"Bayes+KNN with simple voting without CV\"))"
   ]
  },
  {
   "cell_type": "markdown",
   "metadata": {},
   "source": [
    "# Mix NaiveBayes and KNN with simple weighted method Wine"
   ]
  },
  {
   "cell_type": "markdown",
   "metadata": {},
   "source": [
    "## Voting is applied only to Voting classifier"
   ]
  },
  {
   "cell_type": "code",
   "execution_count": 180,
   "metadata": {},
   "outputs": [
    {
     "name": "stdout",
     "output_type": "stream",
     "text": [
      "Accuracy: 0.96 (+/- 0.04) [Bayes+KNN with weighted voting with CV]\n",
      "Accuracy: 0.96 (+/- 0.01) [Bayes+KNN with weighted voting without CV]\n"
     ]
    }
   ],
   "source": [
    "weighted_voting_1 = VotingClassifier(estimators=[('naiveBayes', bagging_nb_simple), \n",
    "                                               ('KNN', bagging_knn_simple)], voting='soft', weights=[2,1])\n",
    "score_4 = cross_val_score(weighted_voting_1, X1, y1, scoring='accuracy', cv=10)\n",
    "cross_valid_wine[5] = round(score_4.mean(),2)\n",
    "score_4_1 = cross_val_score(weighted_voting_1, X1, y1, scoring='accuracy', cv=2)\n",
    "bagging_wine[5] = round(score_4_1.mean(),2)\n",
    "print(\"Accuracy: %0.2f (+/- %0.2f) [%s]\" % (score_4.mean(), score_4.std(), \"Bayes+KNN with weighted voting with CV\"))\n",
    "print(\"Accuracy: %0.2f (+/- %0.2f) [%s]\" % (score_4_1.mean(), score_4_1.std(), \"Bayes+KNN with weighted voting without CV\"))"
   ]
  },
  {
   "cell_type": "markdown",
   "metadata": {},
   "source": [
    "# Weighted Majority"
   ]
  },
  {
   "cell_type": "code",
   "execution_count": 179,
   "metadata": {
    "scrolled": true
   },
   "outputs": [
    {
     "name": "stdout",
     "output_type": "stream",
     "text": [
      "Accuracy: 0.95 (+/- 0.03) [Bayes+KNN with Weighted Majority voting with CV]\n",
      "Accuracy: 0.95 (+/- 0.02) [Bayes+KNN with Weighted Majority without CV]\n"
     ]
    }
   ],
   "source": [
    "weighted_voting_2 = VotingClassifier(estimators=[('naiveBayes', bagging_nb_simple), \n",
    "                                               ('KNN', bagging_knn_simple)], voting='hard', weights=[2,1])\n",
    "score_5 = cross_val_score(weighted_voting_2, X1, y1, scoring='accuracy', cv=10)\n",
    "cross_valid_wine[6] = round(score_5.mean(),2)\n",
    "score_5_1 = cross_val_score(weighted_voting_2, X1, y1, scoring='accuracy', cv=2)\n",
    "bagging_wine[6] = round(score_5_1.mean(),2)\n",
    "print(\"Accuracy: %0.2f (+/- %0.2f) [%s]\" % (score_5.mean(), score_5.std(), \"Bayes+KNN with Weighted Majority voting with CV\"))\n",
    "print(\"Accuracy: %0.2f (+/- %0.2f) [%s]\" % (score_5_1.mean(), score_5_1.std(), \"Bayes+KNN with Weighted Majority without CV\"))"
   ]
  },
  {
   "cell_type": "code",
   "execution_count": 181,
   "metadata": {
    "scrolled": false
   },
   "outputs": [
    {
     "name": "stdout",
     "output_type": "stream",
     "text": [
      "                   with CV  without CV\n",
      "Simple KNN            0.95        0.95\n",
      "Simple NB             0.91        0.91\n",
      "KNN Bagging           0.96        0.94\n",
      "NB Bagging            0.93        0.91\n",
      "Simple voting         0.95        0.92\n",
      "Weighted voting       0.95        0.93\n",
      "Weighted Majority     0.96        0.94\n"
     ]
    }
   ],
   "source": [
    "resultX1 = [[\"Simple KNN\", \"Simple NB\", \"KNN Bagging\", \"NB Bagging\", \"Simple voting\", \"Weighted voting\",\"Weighted Majority\"]\n",
    "           ,cross_valid_wine, bagging_wine]\n",
    "dataF1 = {'with CV':cross_valid_wine, 'without CV':bagging_wine} \n",
    "df1 = pd.DataFrame(dataF, index =[\"Simple KNN\", \"Simple NB\", \"KNN Bagging\", \"NB Bagging\",\n",
    "                                 \"Simple voting\", \"Weighted voting\",\"Weighted Majority\"])\n",
    "print(df)"
   ]
  },
  {
   "cell_type": "markdown",
   "metadata": {},
   "source": [
    "# Breast Cancer"
   ]
  },
  {
   "cell_type": "code",
   "execution_count": 182,
   "metadata": {},
   "outputs": [],
   "source": [
    "breast_cancer = datasets.load_breast_cancer()\n",
    "X2, y2 = breast_cancer.data[:, 1:31], breast_cancer.target\n",
    "seed = 7\n",
    "cross_valid_breast = [None for x in range(7)]\n",
    "bagging_breast=[None for x in range(7)]"
   ]
  },
  {
   "cell_type": "markdown",
   "metadata": {},
   "source": [
    "# Simple KNN Breast Cancer"
   ]
  },
  {
   "cell_type": "code",
   "execution_count": 183,
   "metadata": {},
   "outputs": [
    {
     "name": "stdout",
     "output_type": "stream",
     "text": [
      "Accuracy: 0.93  [Simple KNN with CV]\n",
      "Accuracy: 0.92  [Simple KNN without CV]\n"
     ]
    }
   ],
   "source": [
    "cross_valid_breast[0] = round(cross_val_score(knn, X2, y2, scoring='accuracy', cv=10).mean(),2)\n",
    "bagging_breast[0] = round(cross_val_score(knn, X2, y2, scoring='accuracy', cv=2).mean(),2)\n",
    "print(\"Accuracy: %0.2f  [%s]\" %\n",
    "            (cross_val_score(knn, X2, y2, scoring='accuracy', cv=10).mean(), \"Simple KNN with CV\"))\n",
    "print(\"Accuracy: %0.2f  [%s]\" %\n",
    "            (cross_val_score(knn, X2, y2, scoring='accuracy', cv=2).mean(), \"Simple KNN without CV\"))"
   ]
  },
  {
   "cell_type": "markdown",
   "metadata": {},
   "source": [
    "# Simple Bayes Breast Cancer"
   ]
  },
  {
   "cell_type": "code",
   "execution_count": 184,
   "metadata": {},
   "outputs": [
    {
     "name": "stdout",
     "output_type": "stream",
     "text": [
      "Accuracy: 0.94  [Simple NB with CV]\n",
      "Accuracy: 0.94  [Simple NB without CV]\n"
     ]
    }
   ],
   "source": [
    "cross_valid_breast[1] = round(cross_val_score(bayes, X2, y2, scoring='accuracy', cv=10).mean(), 2)\n",
    "bagging_breast[1] = round(cross_val_score(bayes, X2, y2, scoring='accuracy', cv=2).mean(),2)\n",
    "print(\"Accuracy: %0.2f  [%s]\" %\n",
    "            (cross_val_score(bayes, X2, y2, scoring='accuracy', cv=10).mean(), \"Simple NB with CV\"))\n",
    "print(\"Accuracy: %0.2f  [%s]\" %\n",
    "            (cross_val_score(bayes, X2, y2, scoring='accuracy', cv=2).mean(), \"Simple NB without CV\"))"
   ]
  },
  {
   "cell_type": "markdown",
   "metadata": {},
   "source": [
    "# KNN bagging simple for 10 folds Breast Cancer"
   ]
  },
  {
   "cell_type": "code",
   "execution_count": 185,
   "metadata": {
    "scrolled": true
   },
   "outputs": [
    {
     "name": "stdout",
     "output_type": "stream",
     "text": [
      "Accuracy: 0.92 (+/- 0.03) [Knn for 10 with cross validation]\n",
      "Accuracy: 0.91 (+/- 0.02) [Knn for 10 without cross validation]\n"
     ]
    }
   ],
   "source": [
    "bagging_knn_simple = BaggingClassifier(base_estimator=knn, n_estimators=10, random_state = seed)\n",
    "score_1 = cross_val_score(bagging_knn_simple, X2, y2, scoring='accuracy', cv=10)\n",
    "cross_valid_breast[2] = round(score_1.mean(),2)\n",
    "score_1_1 = cross_val_score(bagging_knn_simple, X2, y2, scoring='accuracy', cv=2)\n",
    "bagging_breast[2] = round(score_1_1.mean(),2)\n",
    "print(\"Accuracy: %0.2f (+/- %0.2f) [%s]\" % (score_1.mean(), score_1.std(), \"Knn for 10 with cross validation\"))\n",
    "print(\"Accuracy: %0.2f (+/- %0.2f) [%s]\" % (score_1_1.mean(), score_1_1.std(), \"Knn for 10 without cross validation\"))"
   ]
  },
  {
   "cell_type": "markdown",
   "metadata": {},
   "source": [
    "# Bayes bagging simple for 10 folds Breast Cancer"
   ]
  },
  {
   "cell_type": "code",
   "execution_count": 186,
   "metadata": {},
   "outputs": [
    {
     "name": "stdout",
     "output_type": "stream",
     "text": [
      "Accuracy: 0.94 (+/- 0.03) [NaiveBayes with CV]\n",
      "Accuracy: 0.94 (+/- 0.02) [NaiveBayes without CV]\n"
     ]
    }
   ],
   "source": [
    "bagging_nb_simple = BaggingClassifier(base_estimator=GaussianNB(), n_estimators=10, random_state = seed)\n",
    "score_2 = cross_val_score(bagging_nb_simple, X2, y2, scoring='accuracy', cv=10)\n",
    "cross_valid_breast[3] = round(score_2.mean(),2)\n",
    "score_2_1 = cross_val_score(bagging_nb_simple, X2, y2, scoring='accuracy', cv=2)\n",
    "bagging_breast[3] = round(score_2_1.mean(),2)\n",
    "print(\"Accuracy: %0.2f (+/- %0.2f) [%s]\" % (score_2.mean(), score_2.std(), \"NaiveBayes with CV\"))\n",
    "print(\"Accuracy: %0.2f (+/- %0.2f) [%s]\" % (score_2_1.mean(), score_2_1.std(), \"NaiveBayes without CV\"))"
   ]
  },
  {
   "cell_type": "markdown",
   "metadata": {},
   "source": [
    "# Mix NaiveBayes and KNN with simple voting method Breast Cancer"
   ]
  },
  {
   "cell_type": "code",
   "execution_count": 187,
   "metadata": {},
   "outputs": [
    {
     "name": "stdout",
     "output_type": "stream",
     "text": [
      "Accuracy: 0.95 (+/- 0.02) [Bayes+KNN with simple voting with CV]\n",
      "Accuracy: 0.95 (+/- 0.02) [Bayes+KNN with simple voting without CV]\n"
     ]
    }
   ],
   "source": [
    "simple_voting = VotingClassifier(estimators=[('naiveBayes', bagging_nb_simple),\n",
    "                                             ('KNN', bagging_knn_simple)], voting='soft')\n",
    "score_3 = cross_val_score(simple_voting, X2, y2, scoring='accuracy', cv=10)\n",
    "cross_valid_breast[4] = round(score_3.mean(),2)\n",
    "score_3_1 = cross_val_score(simple_voting, X2, y2, scoring='accuracy', cv=2)\n",
    "bagging_breast[4] = round(score_3_1.mean(),2)\n",
    "print(\"Accuracy: %0.2f (+/- %0.2f) [%s]\" % (score_3.mean(), score_3.std(), \"Bayes+KNN with simple voting with CV\"))\n",
    "print(\"Accuracy: %0.2f (+/- %0.2f) [%s]\" % (score_3_1.mean(), score_3_1.std(), \"Bayes+KNN with simple voting without CV\"))"
   ]
  },
  {
   "cell_type": "markdown",
   "metadata": {},
   "source": [
    "# Mix NaiveBayes and KNN with simple weighted method Breast Cancer"
   ]
  },
  {
   "cell_type": "markdown",
   "metadata": {},
   "source": [
    "## Voting is applied only to Voting classifier"
   ]
  },
  {
   "cell_type": "code",
   "execution_count": 188,
   "metadata": {},
   "outputs": [
    {
     "name": "stdout",
     "output_type": "stream",
     "text": [
      "Accuracy: 0.94 (+/- 0.03) [Bayes+KNN with weighted voting with CV]\n",
      "Accuracy: 0.94 (+/- 0.02) [Bayes+KNN with weighted voting without CV]\n"
     ]
    }
   ],
   "source": [
    "weighted_voting_1 = VotingClassifier(estimators=[('naiveBayes', bagging_nb_simple), \n",
    "                                               ('KNN', bagging_knn_simple)], voting='soft', weights=[2,1])\n",
    "score_4 = cross_val_score(weighted_voting_1, X2, y2, scoring='accuracy', cv=10)\n",
    "cross_valid_breast[5] = round(score_4.mean(),2)\n",
    "score_4_1 = cross_val_score(weighted_voting_1, X2, y2, scoring='accuracy', cv=2)\n",
    "bagging_breast[5] = round(score_4_1.mean(),2)\n",
    "print(\"Accuracy: %0.2f (+/- %0.2f) [%s]\" % (score_4.mean(), score_4.std(), \"Bayes+KNN with weighted voting with CV\"))\n",
    "print(\"Accuracy: %0.2f (+/- %0.2f) [%s]\" % (score_4_1.mean(), score_4_1.std(), \"Bayes+KNN with weighted voting without CV\"))"
   ]
  },
  {
   "cell_type": "markdown",
   "metadata": {},
   "source": [
    "# Weighted Majority"
   ]
  },
  {
   "cell_type": "code",
   "execution_count": 191,
   "metadata": {
    "scrolled": true
   },
   "outputs": [
    {
     "name": "stdout",
     "output_type": "stream",
     "text": [
      "Accuracy: 0.94 (+/- 0.03) [Bayes+KNN with Weighted Majority voting with CV]\n",
      "Accuracy: 0.94 (+/- 0.02) [Bayes+KNN with Weighted Majority without CV]\n"
     ]
    }
   ],
   "source": [
    "weighted_voting_2 = VotingClassifier(estimators=[('naiveBayes', bagging_nb_simple), \n",
    "                                               ('KNN', bagging_knn_simple)], voting='hard', weights=[2,1])\n",
    "score_5 = cross_val_score(weighted_voting_2, X2, y2, scoring='accuracy', cv=10)\n",
    "cross_valid_breast[6] = round(score_5.mean(),2)\n",
    "score_5_1 = cross_val_score(weighted_voting_2, X2, y2, scoring='accuracy', cv=2)\n",
    "bagging_breast[6] = round(score_5_1.mean(),2)\n",
    "print(\"Accuracy: %0.2f (+/- %0.2f) [%s]\" % (score_5.mean(), score_5.std(), \"Bayes+KNN with Weighted Majority voting with CV\"))\n",
    "print(\"Accuracy: %0.2f (+/- %0.2f) [%s]\" % (score_5_1.mean(), score_5_1.std(), \"Bayes+KNN with Weighted Majority without CV\"))"
   ]
  },
  {
   "cell_type": "code",
   "execution_count": 192,
   "metadata": {
    "scrolled": false
   },
   "outputs": [
    {
     "name": "stdout",
     "output_type": "stream",
     "text": [
      "                   with CV  without CV\n",
      "Simple KNN            0.95        0.95\n",
      "Simple NB             0.91        0.91\n",
      "KNN Bagging           0.96        0.94\n",
      "NB Bagging            0.93        0.91\n",
      "Simple voting         0.95        0.92\n",
      "Weighted voting       0.95        0.93\n",
      "Weighted Majority     0.96        0.94\n"
     ]
    }
   ],
   "source": [
    "resultX2 = [[\"Simple KNN\", \"Simple NB\", \"KNN Bagging\", \"NB Bagging\", \"Simple voting\", \"Weighted voting\",\"Weighted Majority\"]\n",
    "           ,cross_valid_breast, bagging_breast]\n",
    "dataF2 = {'with CV':cross_valid_breast, 'without CV':bagging_breast} \n",
    "df2 = pd.DataFrame(dataF, index =[\"Simple KNN\", \"Simple NB\", \"KNN Bagging\", \"NB Bagging\",\n",
    "                                 \"Simple voting\", \"Weighted voting\",\"Weighted Majority\"])\n",
    "print(df)"
   ]
  }
 ],
 "metadata": {
  "kernelspec": {
   "display_name": "Python 3",
   "language": "python",
   "name": "python3"
  },
  "language_info": {
   "codemirror_mode": {
    "name": "ipython",
    "version": 3
   },
   "file_extension": ".py",
   "mimetype": "text/x-python",
   "name": "python",
   "nbconvert_exporter": "python",
   "pygments_lexer": "ipython3",
   "version": "3.7.4"
  }
 },
 "nbformat": 4,
 "nbformat_minor": 2
}
